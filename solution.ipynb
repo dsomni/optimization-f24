{
 "cells": [
  {
   "cell_type": "markdown",
   "metadata": {},
   "source": [
    "# Optimization F24 Linear programming project\n",
    "\n",
    "by Dmitry Beresnev (<d.beresnev@innopolis.university>)\n",
    "and Vsevolod Klyushev (<v.klyushev@innopolis.university>)\n",
    "\n",
    "Group ID = 2\n"
   ]
  },
  {
   "cell_type": "code",
   "execution_count": 1,
   "metadata": {},
   "outputs": [],
   "source": [
    "from typing import Callable, Optional\n",
    "\n",
    "import matplotlib.pyplot as plt\n",
    "import numpy as np\n",
    "import scipy.io\n",
    "import scipy.linalg\n",
    "import scipy.optimize\n",
    "from tqdm import tqdm"
   ]
  },
  {
   "cell_type": "markdown",
   "metadata": {},
   "source": [
    "## Utilities\n"
   ]
  },
  {
   "cell_type": "markdown",
   "metadata": {},
   "source": [
    "### Decoding/encoding\n"
   ]
  },
  {
   "cell_type": "code",
   "execution_count": 2,
   "metadata": {},
   "outputs": [],
   "source": [
    "def encoding_bin(mess: str, as_float: bool = False) -> tuple[np.ndarray, int]:\n",
    "    \"\"\"Encodes string into binary vector\n",
    "\n",
    "    Args:\n",
    "        mess (str): initial string\n",
    "        as_float (bool): whether to convert output vector to floats. Defaults to False.\n",
    "\n",
    "    Returns:\n",
    "        tuple[np.ndarray, int]: (1d binary vector, number of bits per character)\n",
    "    \"\"\"\n",
    "\n",
    "    # Convert each character to its ASCII value and then to binary\n",
    "    xi = [format(ord(char), \"08b\") for char in mess]\n",
    "\n",
    "    max_len = len(max(xi, key=len))\n",
    "    xi = [f\"{'0'*(max_len -len(bit_str))}{bit_str}\" for bit_str in xi]\n",
    "\n",
    "    # Convert each binary string to a binary vector\n",
    "    x = np.array([[int(bit) for bit in bit_str] for bit_str in xi])\n",
    "\n",
    "    # Return the binary vector and its dimensions\n",
    "    d = x.shape[1]  # Number of bits per character\n",
    "    x = x.flatten()  # convert into a 1-d vector\n",
    "\n",
    "    if as_float:\n",
    "        x = x.astype(np.float32)\n",
    "    return x, d\n",
    "\n",
    "\n",
    "def decoding_bin(x: np.ndarray, d: int) -> tuple[str, np.ndarray]:\n",
    "    \"\"\"Decodes a bunary vector into string\n",
    "\n",
    "    Args:\n",
    "        x (np.ndarray): 1d binary vector\n",
    "        d (int): number of bits per character\n",
    "\n",
    "    Returns:\n",
    "        tuple[str, np.ndarray]: (decoded string, binary matrix)\n",
    "    \"\"\"\n",
    "\n",
    "    # Ensure x is a binary vector (0s and 1s)\n",
    "    x = np.clip(x, 0, 1)  # Clip values to be between 0 and 1\n",
    "    x = np.round(x)  # Round values to the nearest integer\n",
    "\n",
    "    # Initialize the output array\n",
    "    y = np.zeros((len(x) // d, d), dtype=int)\n",
    "\n",
    "    k = 0\n",
    "    for i in range(len(x) // d):\n",
    "        for j in range(d):\n",
    "            y[i, j] = int(x[k])  # Fill the binary matrix\n",
    "            k += 1\n",
    "\n",
    "    # Convert binary to decimal and then to characters\n",
    "    mess = \"\".join(chr(int(\"\".join(map(str, row)), 2)) for row in y)\n",
    "\n",
    "    return mess, y"
   ]
  },
  {
   "cell_type": "code",
   "execution_count": 3,
   "metadata": {},
   "outputs": [
    {
     "name": "stdout",
     "output_type": "stream",
     "text": [
      "Message sent: So happy to see you\n",
      "Dimensions: 8\n",
      "Binary Vector:\n",
      "[0 1 0 1 0 0 1 1 0 1 1 0 1 1 1 1 0 0 1 0 0 0 0 0 0 1 1 0 1 0 0 0 0 1 1 0 0\n",
      " 0 0 1 0 1 1 1 0 0 0 0 0 1 1 1 0 0 0 0 0 1 1 1 1 0 0 1 0 0 1 0 0 0 0 0 0 1\n",
      " 1 1 0 1 0 0 0 1 1 0 1 1 1 1 0 0 1 0 0 0 0 0 0 1 1 1 0 0 1 1 0 1 1 0 0 1 0\n",
      " 1 0 1 1 0 0 1 0 1 0 0 1 0 0 0 0 0 0 1 1 1 1 0 0 1 0 1 1 0 1 1 1 1 0 1 1 1\n",
      " 0 1 0 1]\n",
      "Decoded message: So happy to see you\n"
     ]
    }
   ],
   "source": [
    "# Try it\n",
    "message_in = \"So happy to see you\"\n",
    "print(f\"Message sent: {message_in}\")\n",
    "binary_vector, dimensions = encoding_bin(message_in)\n",
    "print(f\"Dimensions: {dimensions}\")\n",
    "print(f\"Binary Vector:\\n{binary_vector}\")\n",
    "float_vector = binary_vector.astype(np.float32)\n",
    "message_decoded, binary_matrix = decoding_bin(float_vector, dimensions)\n",
    "print(f\"Decoded message: {message_decoded}\")"
   ]
  },
  {
   "cell_type": "markdown",
   "metadata": {},
   "source": [
    "### Channel simulation\n"
   ]
  },
  {
   "cell_type": "code",
   "execution_count": 4,
   "metadata": {},
   "outputs": [],
   "source": [
    "def noisy_channel(\n",
    "    y: np.ndarray, percent_error: float, seed: Optional[int] = None\n",
    ") -> np.ndarray:\n",
    "    \"\"\"Simulates effect of the noisy channel.\n",
    "    Disrupts percent_error% of y entries randomly\n",
    "\n",
    "    Args:\n",
    "        y (np.ndarray): input signal\n",
    "        percent_error (float): percent of information to disrupt\n",
    "        seed (Optional[int]): numpy random seed. Defaults to None.\n",
    "\n",
    "    Returns:\n",
    "        np.ndarray: noisy signal\n",
    "    \"\"\"\n",
    "\n",
    "    if seed is not None:\n",
    "        np.random.seed(seed)\n",
    "\n",
    "    m = len(y)  # Length of the message\n",
    "    k = int(np.floor(m * percent_error))  # Number of entries to corrupt\n",
    "    indices = np.random.permutation(m)[:k]  # Random indices to corrupt\n",
    "    y_n = np.copy(y)  # Copy of the original message\n",
    "    vec = np.random.rand(k) * np.mean(y)\n",
    "    y_n[indices] = vec  # Corruption of selected inputs\n",
    "    return y_n"
   ]
  },
  {
   "cell_type": "code",
   "execution_count": 5,
   "metadata": {},
   "outputs": [
    {
     "name": "stdout",
     "output_type": "stream",
     "text": [
      "Message sent: A crystal clear message\n",
      "Decoded noisy message: A cbyS0aL clear messaga\n"
     ]
    }
   ],
   "source": [
    "# Try it\n",
    "message_in = \"A crystal clear message\"\n",
    "float_vector, dimensions = encoding_bin(message_in, as_float=True)\n",
    "\n",
    "y_prime = noisy_channel(float_vector, percent_error=0.05, seed=420)\n",
    "print(f\"Message sent: {message_in}\")\n",
    "\n",
    "message_corr_decoded, binary_matrix = decoding_bin(y_prime, dimensions)\n",
    "print(f\"Decoded noisy message: {message_corr_decoded}\")"
   ]
  },
  {
   "cell_type": "markdown",
   "metadata": {},
   "source": [
    "### Data loading\n"
   ]
  },
  {
   "cell_type": "code",
   "execution_count": 6,
   "metadata": {},
   "outputs": [],
   "source": [
    "def load_data(\n",
    "    path: str = \"./data/messageFromAlice.mat\"\n",
    ") -> tuple[np.ndarray, np.ndarray, int]:\n",
    "    \"\"\"Loads .mat file from disk\n",
    "\n",
    "    Args:\n",
    "        path (str, optional): Path to data. Defaults to './data/messageFromAlice.mat'.\n",
    "\n",
    "    Returns:\n",
    "        tuple[np.ndarray, np.ndarray, int]: (encoding_matrix, received_signal, dimension)\n",
    "    \"\"\"\n",
    "\n",
    "    data = scipy.io.loadmat(path)\n",
    "    # data is dictionay where\n",
    "    ## data['A'] is the encoding matrix exchanged between Alice and Bob\n",
    "    ## data['d'] is the dimension\n",
    "    ## data['yprime'] is the encrypted message received from Alice\n",
    "\n",
    "    # Load the arrays\n",
    "    y_prime = data[\"yprime\"].T\n",
    "    y_prime = np.squeeze(y_prime)\n",
    "\n",
    "    return data[\"A\"], y_prime, data[\"d\"][0][0]"
   ]
  },
  {
   "cell_type": "markdown",
   "metadata": {},
   "source": [
    "## Question 1\n"
   ]
  },
  {
   "cell_type": "markdown",
   "metadata": {},
   "source": [
    "_Q1: Model the problem as a linear program. Explain your reasoning_\n"
   ]
  },
  {
   "cell_type": "markdown",
   "metadata": {},
   "source": [
    "Initial problem: $\\min\\limits_{x' \\in \\mathbb{R}^p} \\| Ax'-y' \\|_1$ such that $0 \\leq x' \\leq 1$\n",
    "\n",
    "Note that $ \\| Ax'-y' \\|_1 = \\sum_{i=1}^{m} |{(Ax')}\\_i-y'\\_i|$, where $( \\cdot )_i$ - i-th component of vector.\n",
    "\n",
    "Each element $|{(Ax')}_i-y'_i| = \\max({(Ax')}_i-y'_i, y'_i -{(Ax')}_i)$ can be substituted with new variable $z'$ with the following additional\n",
    "constraints: $z_i \\geq {(Ax')}_i-y'_i$ and $z_i \\geq y'_i-{(Ax')}_i$\n",
    "\n",
    "Therefore, we can formulate the following linear programming problem, which is equivalent to the initial one:\n",
    "\n",
    "$$\n",
    "\\begin{aligned}\n",
    "& \\min\\limits_{x' \\in \\mathbb{R}^p, z \\in \\mathbb{R}^m} \\sum_{i=1}^{m} z_i \\\\\n",
    "\\textbf{s.t. } &x' \\geq 0 \\\\\n",
    "&x' \\leq 1 \\\\\n",
    "& z_i \\geq {(Ax')}_i-y'_i, i = 1 \\dots m\\\\\n",
    "& z_i \\geq y'_i-{(Ax')}_i, i = 1 \\dots m \\\\\n",
    "\\end{aligned}\n",
    "$$\n"
   ]
  },
  {
   "cell_type": "markdown",
   "metadata": {},
   "source": [
    "## Question 2\n"
   ]
  },
  {
   "cell_type": "markdown",
   "metadata": {},
   "source": [
    "_Q2: Write this linear problem in standard form_\n"
   ]
  },
  {
   "cell_type": "markdown",
   "metadata": {},
   "source": [
    "Let us firstly rewrite problem in **geometric** form:\n",
    "\n",
    "$$\n",
    "\\begin{aligned}\n",
    "& \\min\\limits_{z' \\in \\mathbb{R}^{p+m}} c^Tz' \\\\\n",
    "\\textbf{s.t. } &A' z' \\geq b',\n",
    "\\end{aligned}\n",
    "$$\n",
    "\n",
    "where\n",
    "$c \\in \\mathbb{R}^{p+m} = \\sum\\_{i=p+1}^{p+m} e_i $,\n",
    "\n",
    "$b' = (0_p, -1_p, -y', y')^T$,\n",
    "\n",
    "$A' = \\begin{pmatrix}\n",
    "I_p & 0 \\\\\n",
    "-I_p &  0 \\\\\n",
    "-A & I_m \\\\\n",
    "A & I_m\n",
    "\\end{pmatrix} \\in \\mathbb{R}^{(2p+2m) \\times (p+m)}\n",
    "$,\n",
    "\n",
    "$e_i$ - unit vector with 1 at index $i$ and all other zeroes,\n",
    "\n",
    "$0_p$ - vector of $p$ zeroes,\n",
    "\n",
    "$1_p$ - vector of $p$ ones,\n",
    "\n",
    "$I_k$ - identity matrix of size $k \\times k$.\n"
   ]
  },
  {
   "cell_type": "markdown",
   "metadata": {},
   "source": [
    "Note, that by construction $z' = (x', z)^T \\geq 0$, because $x' \\geq 0$ by problem definition and $z \\geq 0 $ by construction, as represents an absolute value.\n",
    "\n",
    "Now we are ready to rewrite problem in **standard** form:\n",
    "\n",
    "$$\n",
    "\\begin{aligned}\n",
    "& \\min\\limits_{\\tilde{x} \\in \\mathbb{R}^{2p+3m}} c^T\\tilde{x} \\\\\n",
    "\\textbf{s.t. } &A' \\tilde{x} = b \\\\\n",
    "&\\tilde{x} \\geq 0,\n",
    "\\end{aligned}\n",
    "$$\n",
    "\n",
    "where\n",
    "$c \\in \\mathbb{R}^{2p+3m} = \\sum\\_{i=p+1}^{p+m} e_i $,\n",
    "\n",
    "$b' = (-1_p, -y', y')^T$,\n",
    "\n",
    "$A' = \\begin{pmatrix}\n",
    "-I_p &  0 &  \\\\\n",
    "-A & I_m & -I_{p+2m}\\\\\n",
    "A & I_m & \n",
    "\\end{pmatrix} \\in \\mathbb{R}^{(p+2m) \\times (2p+3m)}\n",
    "$,\n",
    "\n",
    "$-I_{p+2m}$ - slack variable matrix,\n",
    "\n",
    "$1_p$ - vector of $p$ ones,\n",
    "\n",
    "$I_k$ - identity matrix of size $k \\times k$,\n",
    "\n",
    "$e_i$ - unit vector with 1 at index $i$ and all other zeroes.\n"
   ]
  },
  {
   "cell_type": "markdown",
   "metadata": {},
   "source": [
    "Also note, that initial message (that we are interesting in) is the first $p$ components of $\\tilde{x}$\n"
   ]
  },
  {
   "cell_type": "markdown",
   "metadata": {},
   "source": [
    "## Question 3\n"
   ]
  },
  {
   "cell_type": "markdown",
   "metadata": {},
   "source": [
    "_Q3: Use the function linprog2\n",
    "from the Python scientific computation library SciPy to decrypt\n",
    "the message provided on the course website (messageFromAlice.mat). What is the message\n",
    "sent by Alice?_\n"
   ]
  },
  {
   "cell_type": "code",
   "execution_count": 7,
   "metadata": {},
   "outputs": [],
   "source": [
    "def extract_message_naive(\n",
    "    encoding_matrix: np.ndarray, noisy_signal: np.ndarray\n",
    ") -> tuple[np.ndarray, np.ndarray]:\n",
    "    \"\"\"Extracts message using naive approach (asuuming no noise)\n",
    "\n",
    "    Args:\n",
    "        encoding_matrix (np.ndarray): encoding matrix\n",
    "        noisy_signal (np.ndarray): received signal\n",
    "\n",
    "    Returns:\n",
    "        tuple[np.ndarray, np.ndarray]: solution to the problem, extracted message\n",
    "    \"\"\"\n",
    "\n",
    "    res, *_ = scipy.linalg.lstsq(a=encoding_matrix, b=noisy_signal)\n",
    "    return res, res"
   ]
  },
  {
   "cell_type": "code",
   "execution_count": 8,
   "metadata": {},
   "outputs": [],
   "source": [
    "def extract_message_geometric(\n",
    "    encoding_matrix: np.ndarray, noisy_signal: np.ndarray\n",
    ") -> tuple[np.ndarray, np.ndarray]:\n",
    "    \"\"\"Extracts message using (almost) geometric form of linear optimization problem\n",
    "\n",
    "    Args:\n",
    "        encoding_matrix (np.ndarray): encoding matrix\n",
    "        noisy_signal (np.ndarray): received signal\n",
    "\n",
    "    Returns:\n",
    "        tuple[np.ndarray, np.ndarray]: solution to the problem, extracted message\n",
    "    \"\"\"\n",
    "\n",
    "    # Size of A\n",
    "    (m, p) = encoding_matrix.shape\n",
    "\n",
    "    c = np.zeros(p + m)\n",
    "    c[p : p + m] = np.ones(m)\n",
    "\n",
    "    b = np.concat([np.zeros(p), -np.ones(p), -noisy_signal, noisy_signal])\n",
    "\n",
    "    A = np.concat(\n",
    "        [\n",
    "            np.concat([np.identity(p), np.zeros((p, m))], axis=1),\n",
    "            np.concat([-np.identity(p), np.zeros((p, m))], axis=1),\n",
    "            np.concat(\n",
    "                [-encoding_matrix, np.identity(m)],\n",
    "                axis=1,\n",
    "            ),\n",
    "            np.concat(\n",
    "                [\n",
    "                    encoding_matrix,\n",
    "                    np.identity(m),\n",
    "                ],\n",
    "                axis=1,\n",
    "            ),\n",
    "        ]\n",
    "    )\n",
    "\n",
    "    # We add minuses, because from scipy documentation\n",
    "    # A_ub x <= b_ub\n",
    "    # But in geometric from we have constraints\n",
    "    # A_ub x >= b_ub\n",
    "    res = scipy.optimize.linprog(c, A_ub=-A, b_ub=-b, method=\"highs\")\n",
    "\n",
    "    return res.x, res.x[:p]"
   ]
  },
  {
   "cell_type": "code",
   "execution_count": 9,
   "metadata": {},
   "outputs": [],
   "source": [
    "def extract_message_standard(\n",
    "    encoding_matrix: np.ndarray, noisy_signal: np.ndarray\n",
    ") -> tuple[np.ndarray, np.ndarray]:\n",
    "    \"\"\"Extracts message using standard form of linear optimization problem\n",
    "\n",
    "    Args:\n",
    "        encoding_matrix (np.ndarray): encoding matrix\n",
    "        noisy_signal (np.ndarray): received signal\n",
    "\n",
    "    Returns:\n",
    "        tuple[np.ndarray, np.ndarray]: solution to the problem, extracted message\n",
    "    \"\"\"\n",
    "\n",
    "    # Size of A\n",
    "    (m, p) = encoding_matrix.shape\n",
    "\n",
    "    c = np.zeros(2 * p + 3 * m)\n",
    "    c[p : p + m] = np.ones(m)\n",
    "\n",
    "    b = np.concat([-np.ones(p), -noisy_signal, noisy_signal])\n",
    "\n",
    "    A = np.concat(\n",
    "        [\n",
    "            np.concat(\n",
    "                [\n",
    "                    np.concat([-np.identity(p), np.zeros((p, m))], axis=1),\n",
    "                    np.concat(\n",
    "                        [-encoding_matrix, np.identity(m)],\n",
    "                        axis=1,\n",
    "                    ),\n",
    "                    np.concat(\n",
    "                        [\n",
    "                            encoding_matrix,\n",
    "                            np.identity(m),\n",
    "                        ],\n",
    "                        axis=1,\n",
    "                    ),\n",
    "                ]\n",
    "            ),\n",
    "            -np.identity(p + 2 * m),\n",
    "        ],\n",
    "        axis=1,\n",
    "    )\n",
    "\n",
    "    res = scipy.optimize.linprog(c, A_eq=A, b_eq=b, method=\"highs\")\n",
    "\n",
    "    return res.x, res.x[:p]"
   ]
  },
  {
   "cell_type": "code",
   "execution_count": 10,
   "metadata": {},
   "outputs": [],
   "source": [
    "def extract_decoded_message(\n",
    "    encoding_matrix: np.ndarray,\n",
    "    noisy_signal: np.ndarray,\n",
    "    dimension: int,\n",
    "    extract_fn: Callable[[np.ndarray, np.ndarray], tuple[np.ndarray, np.ndarray]],\n",
    ") -> tuple[str, np.ndarray, np.ndarray]:\n",
    "    solution, encoded_message = extract_fn(encoding_matrix, noisy_signal)\n",
    "    message_decoded, _binary_matrix = decoding_bin(encoded_message, dimension)\n",
    "    return message_decoded, encoded_message, solution"
   ]
  },
  {
   "cell_type": "code",
   "execution_count": 11,
   "metadata": {},
   "outputs": [],
   "source": [
    "encoding_matrix, received_signal, dimension = load_data()"
   ]
  },
  {
   "cell_type": "markdown",
   "metadata": {},
   "source": [
    "Extract message naively\n"
   ]
  },
  {
   "cell_type": "code",
   "execution_count": 12,
   "metadata": {},
   "outputs": [
    {
     "name": "stdout",
     "output_type": "stream",
     "text": [
      "The naively recovered message is:\n",
      "Yoe ``N c,aiM qKep Pe`sm~a, retar` by goijg p-\u0000RtudeNt Aff!hp3,\u0000ghtiNf Yg4 cmdE\u001d1003 and aPk for\u0000you r$7aRd\n",
      "CPU times: total: 9.78 s\n",
      "Wall time: 703 ms\n"
     ]
    }
   ],
   "source": [
    "%%time\n",
    "\n",
    "message_naive, _, solution_naive = extract_decoded_message(\n",
    "    encoding_matrix, received_signal, dimension, extract_message_naive\n",
    ")\n",
    "print(f\"The naively recovered message is:\\n{message_naive}\")"
   ]
  },
  {
   "cell_type": "markdown",
   "metadata": {},
   "source": [
    "Extract message using LOP in **geometric** form\n"
   ]
  },
  {
   "cell_type": "code",
   "execution_count": 13,
   "metadata": {},
   "outputs": [
    {
     "name": "stdout",
     "output_type": "stream",
     "text": [
      "The recovered message (using geometric LOP) is:\n",
      "You can claim your personal reward by going to Student affairs, giving you code=1083 and ask for you reward\n",
      "CPU times: total: 2min 34s\n",
      "Wall time: 2min 36s\n"
     ]
    }
   ],
   "source": [
    "%%time\n",
    "\n",
    "message_geom, _, solution_geom = extract_decoded_message(\n",
    "    encoding_matrix, received_signal, dimension, extract_message_geometric\n",
    ")\n",
    "print(f\"The recovered message (using geometric LOP) is:\\n{message_geom}\")"
   ]
  },
  {
   "cell_type": "markdown",
   "metadata": {},
   "source": [
    "Extract message using LOP in **standard** form\n"
   ]
  },
  {
   "cell_type": "code",
   "execution_count": 14,
   "metadata": {},
   "outputs": [
    {
     "name": "stdout",
     "output_type": "stream",
     "text": [
      "The recovered message (using standard LOP) is:\n",
      "You can claim your personal reward by going to Student affairs, giving you code=1083 and ask for you reward\n",
      "CPU times: total: 2min 55s\n",
      "Wall time: 2min 57s\n"
     ]
    }
   ],
   "source": [
    "%%time\n",
    "\n",
    "message_std, _, solution_std = extract_decoded_message(\n",
    "    encoding_matrix, received_signal, dimension, extract_message_standard\n",
    ")\n",
    "print(f\"The recovered message (using standard LOP) is:\\n{message_std}\")\n"
   ]
  },
  {
   "cell_type": "markdown",
   "metadata": {},
   "source": [
    "## Question 4\n"
   ]
  },
  {
   "cell_type": "markdown",
   "metadata": {},
   "source": [
    "_Q4: Is the solution obtained a vertex of the corresponding polyhedron? Justify your answer._\n"
   ]
  },
  {
   "cell_type": "markdown",
   "metadata": {},
   "source": [
    "In this section the linear program in geometric form is considered, as the verifying that the point is\n",
    "a vertex of polyhedron in geometric form is easier than in case of polyhedron in standard form.\n",
    "\n",
    "For polyhedron in geometric form, the following is true:\n",
    "\n",
    "- For the feasible solution $x \\in \\R^n$, if polyhedron has $n$ linearly independent constraints active (or tight) at $x$, then $x$ - vertex of this polyhedron.\n",
    "\n",
    "For polyhedron defined in Question 3, it is needed to verify that there are $(p+m)$ tight linearly independent constraints $A' z^\\ast \\geq b'$, where $z^\\ast \\in \\R^{p+m}$ - solution of linear problem in geometric form (`solution_geom`).\n"
   ]
  },
  {
   "cell_type": "code",
   "execution_count": 15,
   "metadata": {},
   "outputs": [
    {
     "name": "stdout",
     "output_type": "stream",
     "text": [
      "For out matrix A with shape(m*n), where m=8560 and n=4280\n",
      "        and given feasible solution, there are 6677 active\n",
      "        tight constraints and 4280 out of them are linearly independent.\n",
      "        Answer: True\n"
     ]
    },
    {
     "data": {
      "text/plain": [
       "True"
      ]
     },
     "execution_count": 15,
     "metadata": {},
     "output_type": "execute_result"
    }
   ],
   "source": [
    "def check_geom_solution_is_vertex(\n",
    "    encoding_matrix: np.ndarray, noisy_signal: np.ndarray, solution: np.ndarray\n",
    ") -> bool:\n",
    "    \"\"\"Check that the given feasible solution for geometric form problem is a vertex of\n",
    "    the corresponding polyhedron\n",
    "\n",
    "    Args:\n",
    "        encoding_matrix (np.ndarray): encoding matrix\n",
    "        noisy_signal (np.ndarray): received signal\n",
    "        solution (np.ndarray): given solution\n",
    "\n",
    "    Returns:\n",
    "        bool: whether given feasible solution is vertex\n",
    "    \"\"\"\n",
    "\n",
    "    # In order to check, whether solution is a vertex, we need to use A and b\n",
    "    # from geometric form problem:\n",
    "    (m, p) = encoding_matrix.shape\n",
    "    b = np.concat([np.zeros(p), -np.ones(p), -noisy_signal, noisy_signal])\n",
    "\n",
    "    A = np.concat(\n",
    "        [\n",
    "            np.concat([np.identity(p), np.zeros((p, m))], axis=1),\n",
    "            np.concat([-np.identity(p), np.zeros((p, m))], axis=1),\n",
    "            np.concat(\n",
    "                [-encoding_matrix, np.identity(m)],\n",
    "                axis=1,\n",
    "            ),\n",
    "            np.concat(\n",
    "                [\n",
    "                    encoding_matrix,\n",
    "                    np.identity(m),\n",
    "                ],\n",
    "                axis=1,\n",
    "            ),\n",
    "        ]\n",
    "    )\n",
    "\n",
    "    (M, N) = A.shape\n",
    "\n",
    "    # Check which constraints are tight with some tolerance\n",
    "    close_sol_geom = np.isclose(A @ solution - b, 0, atol=1e-10).sum()\n",
    "    mask_sol_geom = np.isclose(A @ solution - b, 0, atol=1e-10)\n",
    "\n",
    "    # According to definition, for a matrix A with dimentionality m*n feasible solution x\n",
    "    # is a vertex, if there are n active linearly independent tight constraints (out of m)\n",
    "    tight_contraints = A[mask_sol_geom]\n",
    "\n",
    "    # Rank of matrix shows the amount of linearly independent vectors (constraints).\n",
    "    # If rank is greater than n, that means that solution is degenerate vertex\n",
    "    rank = int(np.linalg.matrix_rank(tight_contraints))\n",
    "    print(\n",
    "        f\"\"\"For out matrix A with shape(m*n), where m={M} and n={N}\n",
    "        and given feasible solution, there are {close_sol_geom} active\n",
    "        tight constraints and {rank} out of them are linearly independent.\n",
    "        Answer: {rank >= N}\"\"\"\n",
    "    )\n",
    "    return bool(rank >= N)  # True!\n",
    "\n",
    "\n",
    "check_geom_solution_is_vertex(encoding_matrix, received_signal, solution_geom)"
   ]
  },
  {
   "cell_type": "markdown",
   "metadata": {},
   "source": [
    "Using code we determined that obtained solution $z^\\ast$ is indeed vertex of polyhedron in geometric form: there are exactly $(p+m)$ linearly independent constraints (what means that vertex even is not degenerate). Note that `np.isclose()` function is used as Python language can not guarantee numeric precision of values close to zero, so values like $10^{-10}$ should be indeed treated as 0.\n"
   ]
  },
  {
   "cell_type": "markdown",
   "metadata": {},
   "source": [
    "## Question 5\n"
   ]
  },
  {
   "cell_type": "markdown",
   "metadata": {},
   "source": [
    "_Q5: Now generate a message yourself: up to what level of noise can your message be decrypted.\n",
    "(i.e. how many entries of y′ can be disturbed)? Is this surprising? Please comment briefly_\n"
   ]
  },
  {
   "cell_type": "code",
   "execution_count": 16,
   "metadata": {},
   "outputs": [],
   "source": [
    "def gen_random_matrix(*shape: int) -> np.ndarray:\n",
    "    return np.random.randn(*shape)\n",
    "\n",
    "\n",
    "def find_noise_level_binary(\n",
    "    message_custom: str,\n",
    "    extract_fn: Callable[[np.ndarray, np.ndarray], tuple[np.ndarray, np.ndarray]],\n",
    "    signal_dim_factor: float = 4,\n",
    "    eps: float = 0.01,\n",
    "    max_iter: int = 10,\n",
    "    verbose: bool = True,\n",
    "    seed: Optional[int] = None,\n",
    "):\n",
    "    float_custom, dimensions_custom = encoding_bin(message_custom, as_float=True)\n",
    "\n",
    "    if seed is not None:\n",
    "        np.random.seed(seed)\n",
    "\n",
    "    p = float_custom.shape[0]\n",
    "    m = int(p * signal_dim_factor)\n",
    "    encoding_matrix_custom = gen_random_matrix(m, p)\n",
    "\n",
    "    y_custom = encoding_matrix_custom.dot(float_custom)\n",
    "\n",
    "    low_bound = 0.0\n",
    "    up_bound = 1.0\n",
    "\n",
    "    with tqdm(range(max_iter), disable=not verbose) as loop:\n",
    "        for _ in loop:\n",
    "            if up_bound - low_bound < eps:\n",
    "                break\n",
    "            current = (low_bound + up_bound) / 2\n",
    "\n",
    "            noise_custom = noisy_channel(y_custom, percent_error=current, seed=seed)\n",
    "\n",
    "            decoded_custom, decoded_float_custom, __ = extract_decoded_message(\n",
    "                encoding_matrix_custom, noise_custom, dimensions_custom, extract_fn\n",
    "            )\n",
    "\n",
    "            comp_res = False\n",
    "            if decoded_custom == message_custom:\n",
    "                comp_res = True\n",
    "                low_bound = current\n",
    "            else:\n",
    "                up_bound = current\n",
    "\n",
    "                loop.set_postfix(\n",
    "                    {\n",
    "                        \"norm_error\": np.linalg.norm(float_custom - decoded_float_custom),\n",
    "                        \"max_noise_percent\": low_bound,\n",
    "                        \"current_noise_percent\": current,\n",
    "                        \"comp_result\": bool(comp_res),\n",
    "                    },\n",
    "                )\n",
    "\n",
    "    return low_bound"
   ]
  },
  {
   "cell_type": "code",
   "execution_count": 17,
   "metadata": {},
   "outputs": [],
   "source": [
    "def plot_signal_dim_factors(\n",
    "    messages: list[str],\n",
    "    factors: np.ndarray | list[float],\n",
    "    extract_fn: Callable[\n",
    "        [np.ndarray, np.ndarray], tuple[np.ndarray, np.ndarray]\n",
    "    ] = extract_message_geometric,\n",
    "    seed: Optional[int] = None,\n",
    "    verbose: bool = False,\n",
    ") -> list[float]:\n",
    "    max_noise_percents = []\n",
    "    for message in messages:\n",
    "        max_noise_percent = [\n",
    "            find_noise_level_binary(\n",
    "                message, extract_fn, signal_dim_factor=factor, verbose=verbose, seed=seed\n",
    "            )\n",
    "            for factor in factors\n",
    "        ]\n",
    "        plt.scatter(factors, max_noise_percent, label=message, s=15)\n",
    "        plt.plot(factors, max_noise_percent, linewidth=1)\n",
    "\n",
    "        max_noise_percents.append(max_noise_percent)\n",
    "    plt.legend()\n",
    "    plt.xlabel(\"Signal dimension factor\")\n",
    "    plt.ylabel(\"Maximum percent of noise\")\n",
    "    plt.show()\n",
    "\n",
    "    return max_noise_percents"
   ]
  },
  {
   "cell_type": "code",
   "execution_count": 18,
   "metadata": {},
   "outputs": [
    {
     "data": {
      "image/png": "[encoded data removed]",
      "text/plain": [
       "<Figure size 640x480 with 1 Axes>"
      ]
     },
     "metadata": {},
     "output_type": "display_data"
    },
    {
     "name": "stdout",
     "output_type": "stream",
     "text": [
      "signal_dims=[0.5, 0.75, 1, 1.5, 2, 3, 4, 5]\n",
      "noise_percents=[[0.0390625, 0.1640625, 0.2265625, 0.3046875, 0.3359375, 0.3828125, 0.4609375, 0.4765625], [0.0, 0.0703125, 0.1484375, 0.2890625, 0.2421875, 0.40625, 0.4140625, 0.421875], [0.0078125, 0.109375, 0.234375, 0.25, 0.3359375, 0.40625, 0.4140625, 0.4296875]]\n"
     ]
    }
   ],
   "source": [
    "custom_messages = [\"hello!\", \"Custom message\", \"Quite long phrase <3<3\"]\n",
    "\n",
    "signal_dims = [0.5, 0.75, 1, 1.5, *range(2, 6)]\n",
    "noise_percents = plot_signal_dim_factors(custom_messages, signal_dims, seed=420)\n",
    "print(f\"{signal_dims=}\")\n",
    "print(f\"{noise_percents=}\")"
   ]
  },
  {
   "cell_type": "markdown",
   "metadata": {},
   "source": [
    "## Question 6\n"
   ]
  },
  {
   "cell_type": "markdown",
   "metadata": {},
   "source": [
    "_Q6: Now implement the Dikin’s method presented at the end of the first part of the course to\n",
    "solve problem (1). Compare the results obtained between Dikin’s method and the linear\n",
    "solvers provided by SciPy_\n"
   ]
  },
  {
   "cell_type": "markdown",
   "metadata": {},
   "source": [
    "To start the Dikin's method, we first need to get a point from the feasible set of our problem.\n",
    "\n",
    "Since the dimension of our problem is quite large, we decided to use the \"dirty\" method of getting the starting point. To do this, we had to solve the following problem in a standard form (from slides):\n",
    "\n",
    "\n",
    "$$\n",
    "\\begin{aligned}\n",
    "& \\min\\limits_{\\tilde{x} \\in \\mathbb{R}^{2p+3m}} 0 \\\\\n",
    "\\textbf{s.t. } &A' \\tilde{x} = b \\\\\n",
    "&\\tilde{x} \\geq \\epsilon,\n",
    "\\end{aligned}\n",
    "$$\n",
    "\n",
    "where\n",
    "\n",
    "$c \\in \\mathbb{R}^{2p+3m} = 0 $,\n",
    "\n",
    "$\\epsilon > 0$ - small constant,\n",
    "\n",
    "and other notations are the same to the one in definition of linear problem in standard form from Question 3.\n"
   ]
  },
  {
   "cell_type": "code",
   "execution_count": 19,
   "metadata": {},
   "outputs": [
    {
     "name": "stdout",
     "output_type": "stream",
     "text": [
      "Initial guess: L5!! v\u0000K(#\u0011mÁy\u000eah¡0ÌÀS\f`xiFRc\u0014!J\u0000`rY\u0000\u0007ox\u0006 \t\u0010o\"BÐttQn4badçAíBS,\u0000çapplo8Qgp\u0000co$p\u001dµ\u0011\u0018An$A+&$-P93$sa@ \n"
     ]
    }
   ],
   "source": [
    "def get_dikin_initial_point(\n",
    "    encoding_matrix: np.ndarray, noisy_signal: np.ndarray, epsilon: float\n",
    ") -> tuple[np.ndarray, np.ndarray]:\n",
    "    \"\"\"Extracts dirty initial point for Dikin's method using standard form of\n",
    "    linear optimization problem\n",
    "\n",
    "    Args:\n",
    "        encoding_matrix (np.ndarray): encoding matrix\n",
    "        noisy_signal (np.ndarray): received signal\n",
    "\n",
    "    Returns:\n",
    "        tuple[np.ndarray, np.ndarray]: solution to the problem, extracted message\n",
    "    \"\"\"\n",
    "\n",
    "    # Size of A\n",
    "    (m, p) = encoding_matrix.shape\n",
    "\n",
    "    c = np.zeros(2 * p + 3 * m)\n",
    "\n",
    "    b = np.concat([-np.ones(p), -noisy_signal, noisy_signal])\n",
    "\n",
    "    A = np.concat(\n",
    "        [\n",
    "            np.concat(\n",
    "                [\n",
    "                    np.concat([-np.identity(p), np.zeros((p, m))], axis=1),\n",
    "                    np.concat(\n",
    "                        [-encoding_matrix, np.identity(m)],\n",
    "                        axis=1,\n",
    "                    ),\n",
    "                    np.concat(\n",
    "                        [\n",
    "                            encoding_matrix,\n",
    "                            np.identity(m),\n",
    "                        ],\n",
    "                        axis=1,\n",
    "                    ),\n",
    "                ]\n",
    "            ),\n",
    "            -np.identity(p + 2 * m),\n",
    "        ],\n",
    "        axis=1,\n",
    "    )\n",
    "\n",
    "    res = scipy.optimize.linprog(\n",
    "        c,\n",
    "        A_eq=A,\n",
    "        b_eq=b,\n",
    "        bounds=[(epsilon, None) for _ in range(2 * p + 3 * m)],\n",
    "        method=\"highs\",\n",
    "    )\n",
    "\n",
    "    _solution, encoded_message = res.x, res.x[:p]\n",
    "    message_decoded, _binary_matrix = decoding_bin(encoded_message, dimension)\n",
    "    print(f\"Initial guess: {message_decoded}\")\n",
    "\n",
    "    return res.x, res.x[:p]\n",
    "\n",
    "\n",
    "x_dirty, _ = get_dikin_initial_point(encoding_matrix, received_signal, 1e-10)"
   ]
  },
  {
   "cell_type": "code",
   "execution_count": 20,
   "metadata": {},
   "outputs": [],
   "source": [
    "def extract_message_dikin(\n",
    "    encoding_matrix: np.ndarray,\n",
    "    noisy_signal: np.ndarray,\n",
    "    x0: np.ndarray,\n",
    "    alpha: float = 1.0,\n",
    ") -> tuple[np.ndarray, np.ndarray]:\n",
    "    \"\"\"Extracts message using Dikin's method\n",
    "\n",
    "    Args:\n",
    "        encoding_matrix (np.ndarray): encoding matrix\n",
    "        noisy_signal (np.ndarray): received signal\n",
    "        x0 (np.ndarray): initial point\n",
    "        alpha (float): delta scale factor\n",
    "\n",
    "    Returns:\n",
    "        tuple[np.ndarray, np.ndarray]: solution to the problem, extracted message\n",
    "    \"\"\"\n",
    "\n",
    "    # Setup\n",
    "    (m, p) = encoding_matrix.shape\n",
    "\n",
    "    c = np.zeros(2 * p + 3 * m)\n",
    "    c[p : p + m] = np.ones(m)\n",
    "\n",
    "    A = np.concat(\n",
    "        [\n",
    "            np.concat(\n",
    "                [\n",
    "                    np.concat([-np.identity(p), np.zeros((p, m))], axis=1),\n",
    "                    np.concat(\n",
    "                        [-encoding_matrix, np.identity(m)],\n",
    "                        axis=1,\n",
    "                    ),\n",
    "                    np.concat(\n",
    "                        [\n",
    "                            encoding_matrix,\n",
    "                            np.identity(m),\n",
    "                        ],\n",
    "                        axis=1,\n",
    "                    ),\n",
    "                ]\n",
    "            ),\n",
    "            -np.identity(p + 2 * m),\n",
    "        ],\n",
    "        axis=1,\n",
    "    )\n",
    "\n",
    "    x = x0.copy()\n",
    "\n",
    "    # Dikin's method\n",
    "    for k in range(10):\n",
    "        H = np.diag(1 / (x**2 + 1e-7))\n",
    "        H_inv = np.linalg.inv(H)\n",
    "        A_H_inv = A @ H_inv\n",
    "        nu = -1 * np.linalg.inv(A_H_inv @ A.T) @ A_H_inv @ c\n",
    "\n",
    "        s = -1 * H_inv @ (c + A.T @ nu)\n",
    "        mu = 1 / np.sqrt(s.T @ H @ s)\n",
    "\n",
    "        delta_x = mu * s\n",
    "\n",
    "        x = x + alpha * delta_x\n",
    "\n",
    "        message_decoded, _binary_matrix = decoding_bin(x[:p], dimension)\n",
    "        print(\n",
    "            f\"\"\"iteration {k}: norm(delta_x)={np.linalg.norm(delta_x)},\n",
    "            message={message_decoded}\"\"\"\n",
    "        )\n",
    "\n",
    "    return x, x[:p]"
   ]
  },
  {
   "cell_type": "code",
   "execution_count": 21,
   "metadata": {},
   "outputs": [
    {
     "name": "stdout",
     "output_type": "stream",
     "text": [
      "iteration 0: norm(delta_x)=0.8193658102752743,\n",
      "            message=L5!! v\u0000K(#\u0011mÁy\u000eah¡0ÌÀS\f`xiFRc\u0014!J\u0000`rY\u0000\u0007ox\u0006 \t\u0010o\"BÐttQn4badçAíBS,\u0000çapplo8Qgp\u0000co$p\u001dµ\u0011\u0018An$A+&$-P93$sa@ \n",
      "iteration 1: norm(delta_x)=0.8092100986179774,\n",
      "            message=L5!! v\u0000K(#\u0011mÁy\u000eah¡0ÌÀS\f`xiFRc\u0014!J\u0000`rY\u0000\u0007ox\u0006 \t\u0010o\"BÐttQn4badçAíBS,\u0000çapplo8Qgp\u0000co$p\u001dµ\u0011\u0018An$A+&$-P93$sa@ \n",
      "iteration 2: norm(delta_x)=0.7947885365540195,\n",
      "            message=L5!! v\u0000K(#\u0011mÁy\u000eah¡0ÌÀS\f`xiFRc\u0014!J\u0000`rY\u0000\u0007ox\u0006 \t\u0010o\"BÐttQn4badçAíBS,\u0000çapplo8Qgp\u0000co$p\u001dµ\u0011\u0018An$A+&$-P93$sa@ \n",
      "iteration 3: norm(delta_x)=0.7764948571900449,\n",
      "            message=L5!! v\u0000K(#\u0011mÁy\u000eah¡0ÌÀS\f`xiFRc\u0014!J\u0000`rY\u0000\u0007ox\u0006 \t\u0010o\"BÐttQn4badçAíBS,\u0000çapplo8Qgp\u0000co$p\u001dµ\u0011\u0018An$A+&$-P93$sa@ \n",
      "iteration 4: norm(delta_x)=0.7552439982224354,\n",
      "            message=L5!! v\u0000K(#\u0011mÁy\u000eah¡0ÌÀS\f`xiFRc\u0014!J\u0000`rY\u0000\u0007ox\u0006 \t\u0010o\"BÐttQn4badçAíBS,\u0000çapplo8Qgp\u0000co$p\u001dµ\u0011\u0018An$A+&$-P93$sa@ \n",
      "iteration 5: norm(delta_x)=0.7326549353836885,\n",
      "            message=L5!! v\u0000K(#\u0011mÁy\u000eah¡0ÌÀS\f`xiFRc\u0014!J\u0000`rY\u0000\u0007ox\u0006 \t\u0010o\"BÐttQn4badçAíBS,\u0000çapplo8Qgp\u0000co$p\u001dµ\u0011\u0018An$A+&$-P93$sa@ \n",
      "iteration 6: norm(delta_x)=0.710917718454214,\n",
      "            message=L5!! v\u0000K(#\u0011mÁy\u000eah¡0ÌÀS\f`xiFRc\u0014!J\u0000`rY\u0000\u0007ox\u0006 \t\u0010o\"BÐttQn4badçAíBS,\u0000çapplo8Qgp\u0000co$p\u001dµ\u0011\u0018An$A+&$-P93$sa@ \n",
      "iteration 7: norm(delta_x)=0.692279736344186,\n",
      "            message=L5!! v\u0000K(#\u0011mÁy\u000eah¡0ÌÀS\f`xiFRc\u0014!J\u0000`rY\u0000\u0007ox\u0006 \t\u0010o\"BÐttQn4badçAíBS,\u0000çapplo8Qgp\u0000co$p\u001dµ\u0011\u0018An$A+&$-P93$sa@ \n",
      "iteration 8: norm(delta_x)=0.6784231705966324,\n",
      "            message=L5!! v\u0000K(#\u0011mÁy\u000eah¡0ÌÀS\f`xiFRc\u0014!J\u0000`rY\u0000\u0007ox\u0006 \t\u0010o\"BÐttQn4badçAíBS,\u0000çapplo8Qgp\u0000co$p\u001dµ\u0011\u0018An$A+&$-P93$sa@ \n",
      "iteration 9: norm(delta_x)=0.6701475572636025,\n",
      "            message=L5!! v\u0000K(#\u0011mÁy\u000eah¡0ÌÀS\f`xiFRc\u0014!J\u0000`rY\u0000\u0007ox\u0006 \t\u0010o\"BÐttQn4badçAíBS,\u0000çapplo8Qgp\u0000co$p\u001dµ\u0011\u0018An$A+&$-P93$sa@ \n",
      "The recovered message (using Dikin's) is:\n",
      "L5!! v\u0000K(#\u0011mÁy\u000eah¡0ÌÀS\f`xiFRc\u0014!J\u0000`rY\u0000\u0007ox\u0006 \t\u0010o\"BÐttQn4badçAíBS,\u0000çapplo8Qgp\u0000co$p\u001dµ\u0011\u0018An$A+&$-P93$sa@ \n"
     ]
    }
   ],
   "source": [
    "message_dik, _, solution_dik = extract_decoded_message(\n",
    "    encoding_matrix,\n",
    "    received_signal,\n",
    "    dimension,\n",
    "    lambda a, b: extract_message_dikin(a, b, x_dirty),\n",
    ")\n",
    "print(f\"The recovered message (using Dikin's) is:\\n{message_dik}\")"
   ]
  },
  {
   "cell_type": "markdown",
   "metadata": {},
   "source": [
    "As you can see, the vanila algorithm showed a little progress, so the decoded message have not changed\n",
    "\n",
    "Therefore we decided to increase step size (alpha) to get at least some change in the decoded message"
   ]
  },
  {
   "cell_type": "code",
   "execution_count": 22,
   "metadata": {},
   "outputs": [
    {
     "name": "stdout",
     "output_type": "stream",
     "text": [
      "iteration 0: norm(delta_x)=0.8193658102752743,\n",
      "            message=L5!! v\u0000K(#\u0019mÁy\u000eah¡0LÀS,`xiFRc\u0014!J\u0000`rY\u0000\u0007ox\u0006`\t0o\"BÐttQn4bidçAí\u0002S,\u0000çapplo8Qgp\u0000co$p\u001dµ\u0013\u001aAn A+&$-P93$sa@ \n",
      "iteration 1: norm(delta_x)=1.3894562138073716,\n",
      "            message=l5!! f\u0000C(#9MÁy.ah¡pM@SmhxlFPc\u0014!J\u0000`rY\u0000\u0007ox\u00060o\"RÐttQn4bidçAíBS,\u0000çatplo8Qgp\u0000co$0\u001dµ\u0013\u001a\u0011\u0000AnÄ A+&$-R93$sa@ \n",
      "iteration 2: norm(delta_x)=2.1921077263262667,\n",
      "            message=l1 ! F C(#9may/aj¡pMTSllll\u000e@b\u0015!J@@rY\u0000\u0007ox\u00060o\"RÐttQn4bidçAé\u0002S,\u0000çatplg8Qgp\u0000co$0µ\u0013:\u0012\u0000anÄ A+&$-i\u0012$saB \n",
      "iteration 3: norm(delta_x)=2.7683383317099004,\n",
      "            message=j0 ! D c( 9may/aj¡pEds.ll@b\u0015!J@@zY\u0000\u0007oh\u0016po RPptqn4bidçAé\u0010S,\u0000çafplf8Qgp\u0000co$ µ\u0013:\u0013\u0000anÄ(A+&$- \ti2$sab \n",
      "iteration 4: norm(delta_x)=3.3506253677824427,\n",
      "            message=Yjt !`\f c(`)maqne` pEdc>lll\f@b\u00151B@@zY\u0000\u0007o(\u0016`\fpo\u0000RPptun4bIdçQépS, çavplv8Qgt\u0000#o$ ´1:\u0013 \u0001nä(Ak&$- \ti2$sab!\n",
      "iteration 5: norm(delta_x)=3.216339620497832,\n",
      "            message=Yjt !`D`c(`im`yoeb¡pEdc>llD\u0004@`\u00171R@@zY\u0000'\u0016po\u0000RppTen\u0014bIdçQipS, çav`nv8Pkt\u0000#o  ´0:\u0013 !nä(Qk&$- \to¤\u00002%sab!\n",
      "iteration 6: norm(delta_x)=3.1852203795483582,\n",
      "            message=Yjt !`D`c(`ym yoe`¡pEtclld$@`\u00171R@@jY\u0000'\u0016po\u0000Rp0TenTbIfçQhpS$ çaV`nf8Pkt\u0000#o  ´02\u0013 !nä(QÂk&&/ io¤\u00002%saba\n",
      "iteration 7: norm(delta_x)=2.923883045221176,\n",
      "            message=YnT !`L`c(`ym you`¡ðEtc{lld\u0004@p\u00171ÒÀ@jY\u0000'o\u0018\u0016po\u0000Rp1TenT\"IfçQhpS$ ãaVdnv8Pkt\u0000#o !´0>\u0013 !nä(qÂk &/ ao¤\u00002%sAba\n",
      "iteration 8: norm(delta_x)=3.0514475846099804,\n",
      "            message=YjT a`L`c,`im yïu`¡ðEtc[lmD$@y\u00171ÒÀ\u0000*Ù\u0000go\u001a\u0016e\u0000po\u0000Rx1TeoT`IfçQhpS$ ãaVlnv8Pkt\u0000#o  ´ >\u0013`\u0001nä(qÂk\"&/ ao¤\u00042%sAbc\n",
      "iteration 9: norm(delta_x)=4.132396877015309,\n",
      "            message=YjP ah\f`c,hyí yïu`¡ðEtcSlmD$`y\u00171Ò*Ù!gk\u001a\u0016e\u0004po\u0000Rx1TeoTàifçQhps$ áaVìnvxPJt\u0000#/2!´ >\u0003`\u0001nå(qÂk\"&- aï¤$2\u0005wAbc\n",
      "The recovered message (using Dikin's) with alpha 100 is:\n",
      "YjP ah\f`c,hyí yïu`¡ðEtcSlmD$`y\u00171Ò*Ù!gk\u001a\u0016e\u0004po\u0000Rx1TeoTàifçQhps$ áaVìnvxPJt\u0000#/2!´ >\u0003`\u0001nå(qÂk\"&- aï¤$2\u0005wAbc\n"
     ]
    }
   ],
   "source": [
    "message_dik, _, solution_dik = extract_decoded_message(\n",
    "    encoding_matrix,\n",
    "    received_signal,\n",
    "    dimension,\n",
    "    lambda a, b: extract_message_dikin(a, b, x_dirty, 100),\n",
    ")\n",
    "print(f\"The recovered message (using Dikin's) with alpha 100 is:\\n{message_dik}\")"
   ]
  },
  {
   "cell_type": "markdown",
   "metadata": {},
   "source": [
    "Even so, in 10 iterations, which took about 5 minutes, we could not get close to a real solution. At the same time, the solution of linear program in geometric and standard forms using the SciPy made it possible to decrypt the message within 3 minutes\n",
    "\n",
    "However, in such case we can not guarantee that algorithm converges. But it is still better than no progress at all\n",
    "\n",
    "In conclusion, SciPy approaches look more preferable (at least for the given problem)"
   ]
  },
  {
   "cell_type": "markdown",
   "metadata": {},
   "source": [
    "## Question 7\n"
   ]
  },
  {
   "cell_type": "markdown",
   "metadata": {},
   "source": [
    "_Q6: Use SciPy’s linear solver by imposing binary variables: can you decipher your message\n",
    "with a higher noise level?_\n"
   ]
  },
  {
   "cell_type": "code",
   "execution_count": 23,
   "metadata": {},
   "outputs": [],
   "source": [
    "def extract_message_integer(\n",
    "    encoding_matrix: np.ndarray, noisy_signal: np.ndarray\n",
    ") -> tuple[np.ndarray, np.ndarray]:\n",
    "    \"\"\"Extracts message using (almost) geometric form of linear optimization problem\n",
    "    with integer integrality\n",
    "\n",
    "    Args:\n",
    "        encoding_matrix (np.ndarray): encoding matrix\n",
    "        noisy_signal (np.ndarray): received signal\n",
    "\n",
    "    Returns:\n",
    "        tuple[np.ndarray, np.ndarray]: solution to the problem, extracted message\n",
    "    \"\"\"\n",
    "\n",
    "    # Size of A\n",
    "    (m, p) = encoding_matrix.shape\n",
    "\n",
    "    c = np.zeros(p + m)\n",
    "    c[p : p + m] = np.ones(m)\n",
    "\n",
    "    integrality = np.ones(p + m) - c\n",
    "    bounds = [*[(0, 1) for _ in range(p)], *[(0, None) for _ in range(m)]]\n",
    "\n",
    "    b = np.concat([-noisy_signal, noisy_signal])\n",
    "\n",
    "    A = np.concat(\n",
    "        [\n",
    "            np.concat(\n",
    "                [-encoding_matrix, np.identity(m)],\n",
    "                axis=1,\n",
    "            ),\n",
    "            np.concat(\n",
    "                [\n",
    "                    encoding_matrix,\n",
    "                    np.identity(m),\n",
    "                ],\n",
    "                axis=1,\n",
    "            ),\n",
    "        ]\n",
    "    )\n",
    "\n",
    "    # We add minuses, because from scipy documentation\n",
    "    # A_ub x <= b_ub\n",
    "    # But in geometric from we have constraints\n",
    "    # A_ub x >= b_ub\n",
    "    res = scipy.optimize.linprog(\n",
    "        c,\n",
    "        A_ub=-A,\n",
    "        b_ub=-b,\n",
    "        options={\"maxiter\": 20, \"time_limit\": 90},\n",
    "        integrality=integrality,\n",
    "        bounds=bounds,\n",
    "    )\n",
    "    return res.x, res.x[:p]"
   ]
  },
  {
   "cell_type": "code",
   "execution_count": 24,
   "metadata": {},
   "outputs": [
    {
     "name": "stderr",
     "output_type": "stream",
     "text": [
      " 70%|███████   | 7/10 [01:51<00:47, 15.86s/it, norm_error=3.87, max_noise_percent=0.516, current_noise_percent=0.523, comp_result=0]\n",
      " 70%|███████   | 7/10 [07:18<03:07, 62.63s/it, norm_error=1, max_noise_percent=0.312, current_noise_percent=0.328, comp_result=0]  \n",
      " 70%|███████   | 7/10 [05:28<02:20, 46.94s/it, norm_error=1.41, max_noise_percent=0.25, current_noise_percent=0.375, comp_result=0]\n"
     ]
    },
    {
     "data": {
      "image/png": "[encoded data removed]",
      "text/plain": [
       "<Figure size 640x480 with 1 Axes>"
      ]
     },
     "metadata": {},
     "output_type": "display_data"
    },
    {
     "name": "stdout",
     "output_type": "stream",
     "text": [
      "noise_percents_int=[[0.515625], [0.3203125], [0.3671875]]\n"
     ]
    }
   ],
   "source": [
    "noise_percents_int = plot_signal_dim_factors(\n",
    "    custom_messages,\n",
    "    [2],\n",
    "    extract_fn=extract_message_integer,\n",
    "    verbose=True,\n",
    "    seed=420,\n",
    ")\n",
    "print(f\"{noise_percents_int=}\")"
   ]
  }
 ],
 "metadata": {
  "kernelspec": {
   "display_name": ".venv",
   "language": "python",
   "name": "python3"
  },
  "language_info": {
   "codemirror_mode": {
    "name": "ipython",
    "version": 3
   },
   "file_extension": ".py",
   "mimetype": "text/x-python",
   "name": "python",
   "nbconvert_exporter": "python",
   "pygments_lexer": "ipython3",
   "version": "3.12.2"
  }
 },
 "nbformat": 4,
 "nbformat_minor": 2
}
