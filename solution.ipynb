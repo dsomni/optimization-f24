{
 "cells": [
  {
   "cell_type": "markdown",
   "metadata": {},
   "source": [
    "# Optimization F24 Linear programming project\n",
    "by Dmitry Beresnev (<d.beresnev@innopolis.university>)\n",
    "and Vsevolod Klyushev (<v.klyushev@innopolis.university>)\n",
    "\n",
    "Group ID = 2"
   ]
  },
  {
   "cell_type": "code",
   "execution_count": 20,
   "metadata": {},
   "outputs": [
    {
     "name": "stdout",
     "output_type": "stream",
     "text": [
      "Note: you may need to restart the kernel to use updated packages.\n"
     ]
    }
   ],
   "source": [
    "from typing import Optional\n",
    "\n",
    "import numpy as np\n",
    "\n",
    "%pip freeze > requirements.txt"
   ]
  },
  {
   "cell_type": "markdown",
   "metadata": {},
   "source": [
    "## Utilities"
   ]
  },
  {
   "cell_type": "markdown",
   "metadata": {},
   "source": [
    "### Decoding/encoding"
   ]
  },
  {
   "cell_type": "code",
   "execution_count": 21,
   "metadata": {},
   "outputs": [],
   "source": [
    "def encoding_bin(mess: str, as_float:bool=False) -> tuple[np.ndarray, int]:\n",
    "    \"\"\"Encodes string into binary vector\n",
    "\n",
    "    Args:\n",
    "        mess (str): initial string\n",
    "        as_float (bool): whether to convert output vector to floats. Defaults to False.\n",
    "\n",
    "    Returns:\n",
    "        tuple[np.ndarray, int]: (1d binary vector, number of bits per character)\n",
    "    \"\"\"\n",
    "\n",
    "    # Convert each character to its ASCII value and then to binary\n",
    "    xi = [format(ord(char), \"08b\") for char in mess]\n",
    "\n",
    "    # Convert each binary string to a binary vector\n",
    "    x = np.array([[int(bit) for bit in bit_str] for bit_str in xi])\n",
    "\n",
    "    # Return the binary vector and its dimensions\n",
    "    d = x.shape[1]  # Number of bits per character\n",
    "    x = x.flatten() # convert into a 1-d vector\n",
    "\n",
    "    if as_float:\n",
    "        x = x.astype(np.float32)\n",
    "    return x, d\n",
    "\n",
    "def decoding_bin(x: np.ndarray, d:int) -> tuple[str, np.ndarray]:\n",
    "    \"\"\"Decodes a bunary vector into string\n",
    "\n",
    "    Args:\n",
    "        x (np.ndarray): 1d binary vector\n",
    "        d (int): number of bits per character\n",
    "\n",
    "    Returns:\n",
    "        tuple[str, np.ndarray]: (decoded string, binary matrix)\n",
    "    \"\"\"\n",
    "\n",
    "    # Ensure x is a binary vector (0s and 1s)\n",
    "    x = np.clip(x, 0, 1)    # Clip values to be between 0 and 1\n",
    "    x = np.round(x)         # Round values to the nearest integer\n",
    "\n",
    "    # Initialize the output array\n",
    "    y = np.zeros((len(x) // d, d), dtype=int)\n",
    "\n",
    "    k = 0\n",
    "    for i in range(len(x) // d):\n",
    "        for j in range(d):\n",
    "            y[i, j] = int(x[k])  # Fill the binary matrix\n",
    "            k += 1\n",
    "\n",
    "    # Convert binary to decimal and then to characters\n",
    "    mess = \"\".join(chr(int(\"\".join(map(str, row)), 2)) for row in y)\n",
    "\n",
    "    return mess, y"
   ]
  },
  {
   "cell_type": "code",
   "execution_count": 22,
   "metadata": {},
   "outputs": [
    {
     "name": "stdout",
     "output_type": "stream",
     "text": [
      "Message sent: So happy to see you\n",
      "Dimensions: 8\n",
      "Binary Vector:\n",
      "[0 1 0 1 0 0 1 1 0 1 1 0 1 1 1 1 0 0 1 0 0 0 0 0 0 1 1 0 1 0 0 0 0 1 1 0 0\n",
      " 0 0 1 0 1 1 1 0 0 0 0 0 1 1 1 0 0 0 0 0 1 1 1 1 0 0 1 0 0 1 0 0 0 0 0 0 1\n",
      " 1 1 0 1 0 0 0 1 1 0 1 1 1 1 0 0 1 0 0 0 0 0 0 1 1 1 0 0 1 1 0 1 1 0 0 1 0\n",
      " 1 0 1 1 0 0 1 0 1 0 0 1 0 0 0 0 0 0 1 1 1 1 0 0 1 0 1 1 0 1 1 1 1 0 1 1 1\n",
      " 0 1 0 1]\n",
      "Decoded message: So happy to see you\n"
     ]
    }
   ],
   "source": [
    "# Try it\n",
    "message_in = \"So happy to see you\"\n",
    "print(f\"Message sent: {message_in}\")\n",
    "binary_vector, dimensions = encoding_bin(message_in)\n",
    "print(f\"Dimensions: {dimensions}\")\n",
    "print(f\"Binary Vector:\\n{binary_vector}\")\n",
    "float_vector = binary_vector.astype(np.float32)\n",
    "message_decoded, binary_matrix = decoding_bin(float_vector, dimensions)\n",
    "print(f\"Decoded message: {message_decoded}\")"
   ]
  },
  {
   "cell_type": "markdown",
   "metadata": {},
   "source": [
    "### Channel simulation"
   ]
  },
  {
   "cell_type": "code",
   "execution_count": 23,
   "metadata": {},
   "outputs": [],
   "source": [
    "def noisy_channel(y: np.ndarray, percent_error:float, seed:Optional[int] = None)-> np.ndarray:\n",
    "    \"\"\"Simulates effect of the noisy channel.\n",
    "    Disrupts percent_error% of y entries randomly\n",
    "\n",
    "    Args:\n",
    "        y (np.ndarray): input signal\n",
    "        percent_error (float): percent of information to disrupt\n",
    "        seed (Optional[int]): numpy random seed. Defaults to None.\n",
    "\n",
    "    Returns:\n",
    "        np.ndarray: noisy signal\n",
    "    \"\"\"\n",
    "\n",
    "    if seed is not None:\n",
    "        np.random.seed(seed)\n",
    "\n",
    "\n",
    "    m = len(y)                                  # Length of the message\n",
    "    k = int(np.floor(m * percent_error))        # Number of entries to corrupt\n",
    "    indices = np.random.permutation(m)[:k]      # Random indices to corrupt\n",
    "    y_n = np.copy(y)                            # Copy of the original message\n",
    "    vec = np.random.rand(k) * np.mean(y)\n",
    "    y_n[indices] = vec                          # Corruption of selected inputs\n",
    "    return y_n"
   ]
  },
  {
   "cell_type": "code",
   "execution_count": 27,
   "metadata": {},
   "outputs": [
    {
     "name": "stdout",
     "output_type": "stream",
     "text": [
      "Message sent: A crystal clear message\n",
      "Decoded noisy message: A cbyS0aL clear messaga\n"
     ]
    }
   ],
   "source": [
    "# Try it\n",
    "message_in = \"A crystal clear message\"\n",
    "float_vector, dimensions = encoding_bin(message_in, as_float=True)\n",
    "\n",
    "y_prime = noisy_channel(float_vector, percent_error=0.05, seed=420)\n",
    "print(f\"Message sent: {message_in}\")\n",
    "\n",
    "message_corr_decoded, binary_matrix = decoding_bin(y_prime, dimensions)\n",
    "print(f\"Decoded noisy message: {message_corr_decoded}\")"
   ]
  },
  {
   "cell_type": "markdown",
   "metadata": {},
   "source": [
    "## Question 1"
   ]
  },
  {
   "cell_type": "markdown",
   "metadata": {},
   "source": [
    "*Q1:  Model the problem as a linear program. Explain your reasoning*"
   ]
  },
  {
   "cell_type": "markdown",
   "metadata": {},
   "source": [
    "Initial problem: $\\min\\limits_{x' \\in \\mathbb{R}^p} \\| Ax'-y' \\|_1$  such that $0 \\leq x' \\leq 1$\n",
    "\n",
    "Note that $ \\| Ax'-y' \\|_1  = \\sum_{i=1}^{m} |{(Ax')}_i-y'_i|$, where $( \\cdot )_i$ - i-th component of vector.\n",
    "\n",
    "\n",
    "Each element $|{(Ax')}_i-y'_i| = \\max({(Ax')}_i-y'_i, y'_i -{(Ax')}_i)$ can be substituted with new variable $z'$ with the following additional\n",
    "constraints: $z_i \\geq {(Ax')}_i-y'_i$ and $z_i \\geq y'_i-{(Ax')}_i$\n",
    "\n",
    "\n",
    "Therefore, we can formulate the following linear programming problem, which is equivalent to the initial one:\n",
    "\n",
    "$$\n",
    "\\begin{aligned}\n",
    "& \\min\\limits_{x' \\in \\mathbb{R}^p, z \\in \\mathbb{R}^m} \\sum_{i=1}^{m} z_i \\\\\n",
    "\\textbf{s.t. } &x' \\geq 0 \\\\\n",
    "&x' \\leq 1 \\\\\n",
    "& z_i \\geq {(Ax')}_i-y'_i, i = 1 \\dots m\\\\\\\n",
    "& z_i \\geq y'_i-{(Ax')}_i, i = 1 \\dots m \\\\\n",
    "\\end{aligned}\n",
    "$$\n"
   ]
  },
  {
   "cell_type": "markdown",
   "metadata": {},
   "source": [
    "## Question 2"
   ]
  },
  {
   "cell_type": "markdown",
   "metadata": {},
   "source": [
    "*Q2:  Write this linear problem in standard form*"
   ]
  },
  {
   "cell_type": "markdown",
   "metadata": {},
   "source": [
    "Let us firstly rewrite problem in **geometric** form:\n",
    "\n",
    "$$\n",
    "\\begin{aligned}\n",
    "& \\min\\limits_{z' \\in \\mathbb{R}^{p+m}} c^Tz' \\\\\n",
    "\\textbf{s.t. } &A' z' \\geq b',\n",
    "\\end{aligned}\n",
    "$$\n",
    "where\n",
    "$c \\in \\mathbb{R}^{p+m} = \\sum_{i=p+1}^{p+m} e_i $,\n",
    "\n",
    "$b' = (0_p, -1_p, -y', y')^T$,\n",
    "\n",
    "$A' = \\begin{pmatrix}\n",
    "I_p & 0 \\\\\n",
    "-I_p &  -1 \\\\\n",
    "-A & I_m \\\\\n",
    "A & I_m\n",
    "\\end{pmatrix} \\in \\mathbb{R}^{(2p+2m) \\times (p+m)}\n",
    "$,\n",
    "\n",
    "$e_i$ - unit vector with 1 at index $i$ and all other zeroes,\n",
    "\n",
    "$0_p$ - vector of $p$ zeroes,\n",
    "\n",
    "$1_p$ - vector of $p$ ones,\n",
    "\n",
    "$I_k$ - identity matrix of size $k \\times k$."
   ]
  },
  {
   "cell_type": "markdown",
   "metadata": {},
   "source": [
    "Note, that by construction $z' = (x', z)^T \\geq 0$, because $x' \\geq 0$ by problem definition and $z \\geq 0 $ by construction, as represents an absolute value.\n",
    "\n",
    "\n",
    "Now we are ready to rewrite problem in **standard** form:\n",
    "\n",
    "$$\n",
    "\\begin{aligned}\n",
    "& \\min\\limits_{\\tilde{x} \\in \\mathbb{R}^{2p+3m}} c^T\\tilde{x} \\\\\n",
    "\\textbf{s.t. } &A' \\tilde{x} = b \\\\\n",
    "&\\tilde{x} \\geq 0,\n",
    "\\end{aligned}\n",
    "$$\n",
    "where\n",
    "$c \\in \\mathbb{R}^{2p+3m} = \\sum_{i=p+1}^{p+m} e_i $,\n",
    "\n",
    "$b' = (-1_p, -y', y')^T$,\n",
    "\n",
    "$A' = \\begin{pmatrix}\n",
    "-I_p &  -1 & -S^{1,p} \\\\\n",
    "-A & I_m & -S^{p+1,p+m}\\\\\n",
    "A & I_m & -S^{p+m+1,p+2m}\n",
    "\\end{pmatrix} \\in \\mathbb{R}^{(2p+2m) \\times (p+m)}\n",
    "$,\n",
    "\n",
    "$S^{a,b}$ - slack variable matrix of size $(b-a+1) \\times (p+2m)$ with rows $S^{a,b}_i = e_{a+i-1}$,\n",
    "\n",
    "$1_p$ - vector of $p$ ones,\n",
    "\n",
    "$I_k$ - identity matrix of size $k \\times k$,\n",
    "\n",
    "$e_i$ - unit vector with 1 at index $i$ and all other zeroes."
   ]
  }
 ],
 "metadata": {
  "kernelspec": {
   "display_name": "optim_course",
   "language": "python",
   "name": "python3"
  },
  "language_info": {
   "codemirror_mode": {
    "name": "ipython",
    "version": 3
   },
   "file_extension": ".py",
   "mimetype": "text/x-python",
   "name": "python",
   "nbconvert_exporter": "python",
   "pygments_lexer": "ipython3",
   "version": "3.12.4"
  }
 },
 "nbformat": 4,
 "nbformat_minor": 2
}
