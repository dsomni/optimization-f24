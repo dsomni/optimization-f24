{
 "cells": [
  {
   "cell_type": "markdown",
   "metadata": {},
   "source": [
    "# Optimization F24 Linear programming project\n",
    "\n",
    "by Dmitry Beresnev (<d.beresnev@innopolis.university>)\n",
    "and Vsevolod Klyushev (<v.klyushev@innopolis.university>)\n",
    "\n",
    "Group ID = 2\n"
   ]
  },
  {
   "cell_type": "code",
   "execution_count": 1,
   "metadata": {},
   "outputs": [
    {
     "name": "stdout",
     "output_type": "stream",
     "text": [
      "Note: you may need to restart the kernel to use updated packages.\n"
     ]
    }
   ],
   "source": [
    "from typing import Callable, Optional\n",
    "\n",
    "import matplotlib.pyplot as plt\n",
    "import numpy as np\n",
    "import scipy.io\n",
    "import scipy.linalg\n",
    "from scipy.optimize import linprog\n",
    "from tqdm import tqdm\n",
    "\n",
    "%pip freeze > requirements.txt"
   ]
  },
  {
   "cell_type": "markdown",
   "metadata": {},
   "source": [
    "## Utilities\n"
   ]
  },
  {
   "cell_type": "markdown",
   "metadata": {},
   "source": [
    "### Decoding/encoding\n"
   ]
  },
  {
   "cell_type": "code",
   "execution_count": 2,
   "metadata": {},
   "outputs": [],
   "source": [
    "def encoding_bin(mess: str, as_float: bool = False) -> tuple[np.ndarray, int]:\n",
    "    \"\"\"Encodes string into binary vector\n",
    "\n",
    "    Args:\n",
    "        mess (str): initial string\n",
    "        as_float (bool): whether to convert output vector to floats. Defaults to False.\n",
    "\n",
    "    Returns:\n",
    "        tuple[np.ndarray, int]: (1d binary vector, number of bits per character)\n",
    "    \"\"\"\n",
    "\n",
    "    # Convert each character to its ASCII value and then to binary\n",
    "    xi = [format(ord(char), \"08b\") for char in mess]\n",
    "\n",
    "    max_len = len(max(xi, key=len))\n",
    "    xi = [f\"{'0'*(max_len -len(bit_str))}{bit_str}\" for bit_str in xi]\n",
    "\n",
    "    # Convert each binary string to a binary vector\n",
    "    x = np.array([[int(bit) for bit in bit_str] for bit_str in xi])\n",
    "\n",
    "    # Return the binary vector and its dimensions\n",
    "    d = x.shape[1]  # Number of bits per character\n",
    "    x = x.flatten()  # convert into a 1-d vector\n",
    "\n",
    "    if as_float:\n",
    "        x = x.astype(np.float32)\n",
    "    return x, d\n",
    "\n",
    "\n",
    "def decoding_bin(x: np.ndarray, d: int) -> tuple[str, np.ndarray]:\n",
    "    \"\"\"Decodes a bunary vector into string\n",
    "\n",
    "    Args:\n",
    "        x (np.ndarray): 1d binary vector\n",
    "        d (int): number of bits per character\n",
    "\n",
    "    Returns:\n",
    "        tuple[str, np.ndarray]: (decoded string, binary matrix)\n",
    "    \"\"\"\n",
    "\n",
    "    # Ensure x is a binary vector (0s and 1s)\n",
    "    x = np.clip(x, 0, 1)  # Clip values to be between 0 and 1\n",
    "    x = np.round(x)  # Round values to the nearest integer\n",
    "\n",
    "    # Initialize the output array\n",
    "    y = np.zeros((len(x) // d, d), dtype=int)\n",
    "\n",
    "    k = 0\n",
    "    for i in range(len(x) // d):\n",
    "        for j in range(d):\n",
    "            y[i, j] = int(x[k])  # Fill the binary matrix\n",
    "            k += 1\n",
    "\n",
    "    # Convert binary to decimal and then to characters\n",
    "    mess = \"\".join(chr(int(\"\".join(map(str, row)), 2)) for row in y)\n",
    "\n",
    "    return mess, y"
   ]
  },
  {
   "cell_type": "code",
   "execution_count": 3,
   "metadata": {},
   "outputs": [
    {
     "name": "stdout",
     "output_type": "stream",
     "text": [
      "Message sent: So happy to see you\n",
      "Dimensions: 8\n",
      "Binary Vector:\n",
      "[0 1 0 1 0 0 1 1 0 1 1 0 1 1 1 1 0 0 1 0 0 0 0 0 0 1 1 0 1 0 0 0 0 1 1 0 0\n",
      " 0 0 1 0 1 1 1 0 0 0 0 0 1 1 1 0 0 0 0 0 1 1 1 1 0 0 1 0 0 1 0 0 0 0 0 0 1\n",
      " 1 1 0 1 0 0 0 1 1 0 1 1 1 1 0 0 1 0 0 0 0 0 0 1 1 1 0 0 1 1 0 1 1 0 0 1 0\n",
      " 1 0 1 1 0 0 1 0 1 0 0 1 0 0 0 0 0 0 1 1 1 1 0 0 1 0 1 1 0 1 1 1 1 0 1 1 1\n",
      " 0 1 0 1]\n",
      "Decoded message: So happy to see you\n"
     ]
    }
   ],
   "source": [
    "# Try it\n",
    "message_in = \"So happy to see you\"\n",
    "print(f\"Message sent: {message_in}\")\n",
    "binary_vector, dimensions = encoding_bin(message_in)\n",
    "print(f\"Dimensions: {dimensions}\")\n",
    "print(f\"Binary Vector:\\n{binary_vector}\")\n",
    "float_vector = binary_vector.astype(np.float32)\n",
    "message_decoded, binary_matrix = decoding_bin(float_vector, dimensions)\n",
    "print(f\"Decoded message: {message_decoded}\")"
   ]
  },
  {
   "cell_type": "markdown",
   "metadata": {},
   "source": [
    "### Channel simulation\n"
   ]
  },
  {
   "cell_type": "code",
   "execution_count": 4,
   "metadata": {},
   "outputs": [],
   "source": [
    "def noisy_channel(\n",
    "    y: np.ndarray, percent_error: float, seed: Optional[int] = None\n",
    ") -> np.ndarray:\n",
    "    \"\"\"Simulates effect of the noisy channel.\n",
    "    Disrupts percent_error% of y entries randomly\n",
    "\n",
    "    Args:\n",
    "        y (np.ndarray): input signal\n",
    "        percent_error (float): percent of information to disrupt\n",
    "        seed (Optional[int]): numpy random seed. Defaults to None.\n",
    "\n",
    "    Returns:\n",
    "        np.ndarray: noisy signal\n",
    "    \"\"\"\n",
    "\n",
    "    if seed is not None:\n",
    "        np.random.seed(seed)\n",
    "\n",
    "    m = len(y)  # Length of the message\n",
    "    k = int(np.floor(m * percent_error))  # Number of entries to corrupt\n",
    "    indices = np.random.permutation(m)[:k]  # Random indices to corrupt\n",
    "    y_n = np.copy(y)  # Copy of the original message\n",
    "    vec = np.random.rand(k) * np.mean(y)\n",
    "    y_n[indices] = vec  # Corruption of selected inputs\n",
    "    return y_n"
   ]
  },
  {
   "cell_type": "code",
   "execution_count": 5,
   "metadata": {},
   "outputs": [
    {
     "name": "stdout",
     "output_type": "stream",
     "text": [
      "Message sent: A crystal clear message\n",
      "Decoded noisy message: A cbyS0aL clear messaga\n"
     ]
    }
   ],
   "source": [
    "# Try it\n",
    "message_in = \"A crystal clear message\"\n",
    "float_vector, dimensions = encoding_bin(message_in, as_float=True)\n",
    "\n",
    "y_prime = noisy_channel(float_vector, percent_error=0.05, seed=420)\n",
    "print(f\"Message sent: {message_in}\")\n",
    "\n",
    "message_corr_decoded, binary_matrix = decoding_bin(y_prime, dimensions)\n",
    "print(f\"Decoded noisy message: {message_corr_decoded}\")"
   ]
  },
  {
   "cell_type": "markdown",
   "metadata": {},
   "source": [
    "### Data loading\n"
   ]
  },
  {
   "cell_type": "code",
   "execution_count": 6,
   "metadata": {},
   "outputs": [],
   "source": [
    "def load_data(\n",
    "    path: str = \"./data/messageFromAlice.mat\"\n",
    ") -> tuple[np.ndarray, np.ndarray, int]:\n",
    "    \"\"\"Loads .mat file from disk\n",
    "\n",
    "    Args:\n",
    "        path (str, optional): Path to data. Defaults to './data/messageFromAlice.mat'.\n",
    "\n",
    "    Returns:\n",
    "        tuple[np.ndarray, np.ndarray, int]: (encoding_matrix, received_signal, dimension)\n",
    "    \"\"\"\n",
    "\n",
    "    data = scipy.io.loadmat(path)\n",
    "    # data is dictionay where\n",
    "    ## data['A'] is the encoding matrix exchanged between Alice and Bob\n",
    "    ## data['d'] is the dimension\n",
    "    ## data['yprime'] is the encrypted message received from Alice\n",
    "\n",
    "    # Load the arrays\n",
    "    y_prime = data[\"yprime\"].T\n",
    "    y_prime = np.squeeze(y_prime)\n",
    "\n",
    "    return data[\"A\"], y_prime, data[\"d\"][0][0]\n"
   ]
  },
  {
   "cell_type": "markdown",
   "metadata": {},
   "source": [
    "## Question 1\n"
   ]
  },
  {
   "cell_type": "markdown",
   "metadata": {},
   "source": [
    "_Q1: Model the problem as a linear program. Explain your reasoning_\n"
   ]
  },
  {
   "cell_type": "markdown",
   "metadata": {},
   "source": [
    "Initial problem: $\\min\\limits_{x' \\in \\mathbb{R}^p} \\| Ax'-y' \\|_1$ such that $0 \\leq x' \\leq 1$\n",
    "\n",
    "Note that $ \\| Ax'-y' \\|_1 = \\sum_{i=1}^{m} |{(Ax')}_i-y'_i|$, where $( \\cdot )_i$ - i-th component of vector.\n",
    "\n",
    "Each element $|{(Ax')}_i-y'_i| = \\max({(Ax')}_i-y'_i, y'_i -{(Ax')}_i)$ can be substituted with new variable $z'$ with the following additional\n",
    "constraints: $z_i \\geq {(Ax')}_i-y'_i$ and $z_i \\geq y'_i-{(Ax')}_i$\n",
    "\n",
    "Therefore, we can formulate the following linear programming problem, which is equivalent to the initial one:\n",
    "\n",
    "$$\n",
    "\\begin{aligned}\n",
    "& \\min\\limits_{x' \\in \\mathbb{R}^p, z \\in \\mathbb{R}^m} \\sum_{i=1}^{m} z_i \\\\\n",
    "\\textbf{s.t. } &x' \\geq 0 \\\\\n",
    "&x' \\leq 1 \\\\\n",
    "& z_i \\geq {(Ax')}_i-y'_i, i = 1 \\dots m\\\\\n",
    "& z_i \\geq y'_i-{(Ax')}_i, i = 1 \\dots m \\\\\n",
    "\\end{aligned}\n",
    "$$\n"
   ]
  },
  {
   "cell_type": "markdown",
   "metadata": {},
   "source": [
    "## Question 2\n"
   ]
  },
  {
   "cell_type": "markdown",
   "metadata": {},
   "source": [
    "_Q2: Write this linear problem in standard form_\n"
   ]
  },
  {
   "cell_type": "markdown",
   "metadata": {},
   "source": [
    "Let us firstly rewrite problem in **geometric** form:\n",
    "\n",
    "$$\n",
    "\\begin{aligned}\n",
    "& \\min\\limits_{z' \\in \\mathbb{R}^{p+m}} c^Tz' \\\\\n",
    "\\textbf{s.t. } &A' z' \\geq b',\n",
    "\\end{aligned}\n",
    "$$\n",
    "\n",
    "where\n",
    "$c \\in \\mathbb{R}^{p+m} = \\sum_{i=p+1}^{p+m} e_i $,\n",
    "\n",
    "$b' = (0_p, -1_p, -y', y')^T$,\n",
    "\n",
    "$A' = \\begin{pmatrix}\n",
    "I_p & 0 \\\\\n",
    "-I_p &  0 \\\\\n",
    "-A & I_m \\\\\n",
    "A & I_m\n",
    "\\end{pmatrix} \\in \\mathbb{R}^{(2p+2m) \\times (p+m)}\n",
    "$,\n",
    "\n",
    "$e_i$ - unit vector with 1 at index $i$ and all other zeroes,\n",
    "\n",
    "$0_p$ - vector of $p$ zeroes,\n",
    "\n",
    "$1_p$ - vector of $p$ ones,\n",
    "\n",
    "$I_k$ - identity matrix of size $k \\times k$.\n"
   ]
  },
  {
   "cell_type": "markdown",
   "metadata": {},
   "source": [
    "Note, that by construction $z' = (x', z)^T \\geq 0$, because $x' \\geq 0$ by problem definition and $z \\geq 0 $ by construction, as represents an absolute value.\n",
    "\n",
    "Now we are ready to rewrite problem in **standard** form:\n",
    "\n",
    "$$\n",
    "\\begin{aligned}\n",
    "& \\min\\limits_{\\tilde{x} \\in \\mathbb{R}^{2p+3m}} c^T\\tilde{x} \\\\\n",
    "\\textbf{s.t. } &A' \\tilde{x} = b \\\\\n",
    "&\\tilde{x} \\geq 0,\n",
    "\\end{aligned}\n",
    "$$\n",
    "\n",
    "where\n",
    "$c \\in \\mathbb{R}^{2p+3m} = \\sum_{i=p+1}^{p+m} e_i $,\n",
    "\n",
    "$b' = (-1_p, -y', y')^T$,\n",
    "\n",
    "$A' = \\begin{pmatrix}\n",
    "-I_p &  0 & -S^{1,p} \\\\\n",
    "-A & I_m & -S^{p+1,p+m}\\\\\n",
    "A & I_m & -S^{p+m+1,p+2m}\n",
    "\\end{pmatrix} \\in \\mathbb{R}^{(p+2m) \\times (2p+3m)}\n",
    "$,\n",
    "\n",
    "$S^{a,b}$ - slack variable matrix of size $(b-a+1) \\times (p+2m)$ with rows $S^{a,b}_i = e_{a+i-1}$,\n",
    "\n",
    "$1_p$ - vector of $p$ ones,\n",
    "\n",
    "$I_k$ - identity matrix of size $k \\times k$,\n",
    "\n",
    "$e_i$ - unit vector with 1 at index $i$ and all other zeroes.\n"
   ]
  },
  {
   "cell_type": "markdown",
   "metadata": {},
   "source": [
    "Also note, that initial message (that we are interesting in) is the first $p$ components of $\\tilde{x}$\n"
   ]
  },
  {
   "cell_type": "markdown",
   "metadata": {},
   "source": [
    "## Question 3\n"
   ]
  },
  {
   "cell_type": "markdown",
   "metadata": {},
   "source": [
    "_Q3: Use the function linprog2\n",
    "from the Python scientific computation library SciPy to decrypt\n",
    "the message provided on the course website (messageFromAlice.mat). What is the message\n",
    "sent by Alice?_\n"
   ]
  },
  {
   "cell_type": "code",
   "execution_count": 7,
   "metadata": {},
   "outputs": [],
   "source": [
    "def extract_message_naive(\n",
    "    encoding_matrix: np.ndarray, noisy_signal: np.ndarray\n",
    ") -> np.ndarray:\n",
    "    \"\"\"Extracts message using naive approach (asuuming no noise)\n",
    "\n",
    "    Args:\n",
    "        encoding_matrix (np.ndarray): encoding matrix\n",
    "        noisy_signal (np.ndarray): received signal\n",
    "\n",
    "    Returns:\n",
    "        np.ndarray: extracted message\n",
    "    \"\"\"\n",
    "\n",
    "    res, *_ = scipy.linalg.lstsq(a=encoding_matrix,b=noisy_signal)\n",
    "    return res"
   ]
  },
  {
   "cell_type": "code",
   "execution_count": 8,
   "metadata": {},
   "outputs": [],
   "source": [
    "def extract_message_geometric(\n",
    "    encoding_matrix: np.ndarray, noisy_signal: np.ndarray\n",
    ") -> np.ndarray:\n",
    "    \"\"\"Extracts message using (almost) geometric form of linear optimization problem\n",
    "\n",
    "    Args:\n",
    "        encoding_matrix (np.ndarray): encoding matrix\n",
    "        noisy_signal (np.ndarray): received signal\n",
    "\n",
    "    Returns:\n",
    "        np.ndarray: extracted message\n",
    "    \"\"\"\n",
    "\n",
    "    # Size of A\n",
    "    (m, p) = encoding_matrix.shape\n",
    "\n",
    "    c = np.zeros(p+m)\n",
    "    c[p : p + m] = np.ones(m)\n",
    "\n",
    "    b = np.concat([np.zeros(p), -np.ones(p), -noisy_signal, noisy_signal])\n",
    "\n",
    "    A = np.concat(\n",
    "        [\n",
    "            np.concat(\n",
    "                [np.identity(p), np.zeros((p, m))], axis=1\n",
    "            ),\n",
    "            np.concat(\n",
    "                [-np.identity(p), np.zeros((p, m))], axis=1\n",
    "            ),\n",
    "            np.concat(\n",
    "                [-encoding_matrix, np.identity(m)],\n",
    "                axis=1,\n",
    "            ),\n",
    "            np.concat(\n",
    "                [\n",
    "                    encoding_matrix,\n",
    "                    np.identity(m),\n",
    "                ],\n",
    "                axis=1,\n",
    "            ),\n",
    "        ]\n",
    "    )\n",
    "\n",
    "    # We add minuses, because from scipy documentation\n",
    "    # A_ub x <= b_ub\n",
    "    # But in geometric from we have constraints\n",
    "    # A_ub x >= b_ub\n",
    "    res = linprog(c, A_ub=-A, b_ub=-b, method=\"highs\")\n",
    "\n",
    "    return res.x[:p]\n"
   ]
  },
  {
   "cell_type": "code",
   "execution_count": 9,
   "metadata": {},
   "outputs": [],
   "source": [
    "def build_slack(a: int, b: int, p: int, m: int) -> np.ndarray:\n",
    "    slack_matrix = np.zeros((b - a + 1, p + 2 * m))\n",
    "    for i in range(b - a + 1):\n",
    "        slack_matrix[i][a + i - 1] = 1\n",
    "    return slack_matrix\n",
    "\n",
    "\n",
    "def extract_message_standard(\n",
    "    encoding_matrix: np.ndarray, noisy_signal: np.ndarray\n",
    ") -> np.ndarray:\n",
    "    \"\"\"Extracts message using standard form of linear optimization problem\n",
    "\n",
    "    Args:\n",
    "        encoding_matrix (np.ndarray): encoding matrix\n",
    "        noisy_signal (np.ndarray): received signal\n",
    "\n",
    "    Returns:\n",
    "        np.ndarray: extracted message\n",
    "    \"\"\"\n",
    "\n",
    "    # Size of A\n",
    "    (m, p) = encoding_matrix.shape\n",
    "\n",
    "    c = np.zeros(2 * p + 3 * m)\n",
    "    c[p : p + m] = np.ones(m)\n",
    "\n",
    "    b = np.concat([-np.ones(p), -noisy_signal, noisy_signal])\n",
    "\n",
    "    A = np.concat(\n",
    "        [\n",
    "            np.concat(\n",
    "                [-np.identity(p), np.zeros((p, m)), -build_slack(1, p, p, m)], axis=1\n",
    "            ),\n",
    "            np.concat(\n",
    "                [-encoding_matrix, np.identity(m), -build_slack(p + 1, p + m, p, m)],\n",
    "                axis=1,\n",
    "            ),\n",
    "            np.concat(\n",
    "                [\n",
    "                    encoding_matrix,\n",
    "                    np.identity(m),\n",
    "                    -build_slack(p + m + 1, p + 2 * m, p, m),\n",
    "                ],\n",
    "                axis=1,\n",
    "            ),\n",
    "        ]\n",
    "    )\n",
    "\n",
    "    res = linprog(c, A_eq=A, b_eq=b, method=\"highs\")\n",
    "\n",
    "    return res.x[:p]\n"
   ]
  },
  {
   "cell_type": "code",
   "execution_count": 10,
   "metadata": {},
   "outputs": [],
   "source": [
    "def extract_decoded_message(\n",
    "    encoding_matrix: np.ndarray,\n",
    "    noisy_signal: np.ndarray,\n",
    "    dimension: int,\n",
    "    extract_fn: Callable[[np.ndarray, np.ndarray], np.ndarray],\n",
    ") -> tuple[str, np.ndarray]:\n",
    "    encoded_message = extract_fn(encoding_matrix, noisy_signal)\n",
    "    message_decoded_naive, _binary_matrix = decoding_bin(encoded_message, dimension)\n",
    "    return message_decoded_naive, encoded_message\n"
   ]
  },
  {
   "cell_type": "code",
   "execution_count": 11,
   "metadata": {},
   "outputs": [],
   "source": [
    "encoding_matrix, received_signal, dimension = load_data()"
   ]
  },
  {
   "cell_type": "markdown",
   "metadata": {},
   "source": [
    "Extract message naively\n"
   ]
  },
  {
   "cell_type": "code",
   "execution_count": 12,
   "metadata": {},
   "outputs": [
    {
     "name": "stdout",
     "output_type": "stream",
     "text": [
      "The naively recovered message is:\n",
      "Yoe ``N c,aiM qKep Pe`sm~a, retar` by goijg p-\u0000RtudeNt Aff!hp3,\u0000ghtiNf Yg4 cmdE\u001d1003 and aPk for\u0000you r$7aRd\n",
      "CPU times: total: 11.1 s\n",
      "Wall time: 2.19 s\n"
     ]
    }
   ],
   "source": [
    "%%time\n",
    "\n",
    "message_naive, _ = extract_decoded_message(\n",
    "    encoding_matrix, received_signal, dimension, extract_message_naive\n",
    ")\n",
    "print(f\"The naively recovered message is:\\n{message_naive}\")\n"
   ]
  },
  {
   "cell_type": "markdown",
   "metadata": {},
   "source": [
    "Extract message using LOP in **geometric** form"
   ]
  },
  {
   "cell_type": "code",
   "execution_count": 48,
   "metadata": {},
   "outputs": [
    {
     "name": "stdout",
     "output_type": "stream",
     "text": [
      "The recovered message (using geometric LOP) is:\n",
      "You can claim your personal reward by going to Student affairs, giving you code=1083 and ask for you reward\n",
      "CPU times: total: 4min 31s\n",
      "Wall time: 4min 53s\n"
     ]
    }
   ],
   "source": [
    "%%time\n",
    "\n",
    "message_geom,_ = extract_decoded_message(\n",
    "    encoding_matrix, received_signal, dimension, extract_message_geometric\n",
    ")\n",
    "print(f\"The recovered message (using geometric LOP) is:\\n{message_geom}\")\n"
   ]
  },
  {
   "cell_type": "markdown",
   "metadata": {},
   "source": [
    "Extract message using LOP in **standard** form"
   ]
  },
  {
   "cell_type": "code",
   "execution_count": 49,
   "metadata": {},
   "outputs": [
    {
     "name": "stdout",
     "output_type": "stream",
     "text": [
      "The recovered message (using standard LOP) is:\n",
      "You can claim your personal reward by going to Student affairs, giving you code=1083 and ask for you reward\n",
      "CPU times: total: 5min 10s\n",
      "Wall time: 5min 34s\n"
     ]
    }
   ],
   "source": [
    "%%time\n",
    "\n",
    "message_std,_ = extract_decoded_message(\n",
    "    encoding_matrix, received_signal, dimension, extract_message_standard\n",
    ")\n",
    "print(f\"The recovered message (using standard LOP) is:\\n{message_std}\")\n"
   ]
  },
  {
   "cell_type": "markdown",
   "metadata": {},
   "source": [
    "## Question 4"
   ]
  },
  {
   "cell_type": "markdown",
   "metadata": {},
   "source": [
    "_Q4: Is the solution obtained a vertex of the corresponding polyhedron? Justify your answer._\n"
   ]
  },
  {
   "cell_type": "markdown",
   "metadata": {},
   "source": [
    "## Question 5"
   ]
  },
  {
   "cell_type": "markdown",
   "metadata": {},
   "source": [
    "_Q5:  Now generate a message yourself: up to what level of noise can your message be decrypted.\n",
    "(i.e. how many entries of y′ can be disturbed)? Is this surprising? Please comment briefly_\n"
   ]
  },
  {
   "cell_type": "code",
   "execution_count": 51,
   "metadata": {},
   "outputs": [],
   "source": [
    "def gen_random_matrix(*shape:int, magnitude:int)->np.ndarray:\n",
    "    return (2*np.random.rand(*shape)-1)*magnitude # type: ignore\n",
    "\n",
    "def find_noise_level_binary(message_custom: str, extract_fn: Callable[[np.ndarray, np.ndarray], np.ndarray] = extract_message_standard,\n",
    "                            signal_dim_factor:float = 4,eps:float = 0.01, max_iter:int=10, verbose:bool = True, seed:Optional[int]=None):\n",
    "\n",
    "    float_custom, dimensions_custom = encoding_bin(message_custom, as_float=True)\n",
    "\n",
    "    if seed is not None:\n",
    "        np.random.seed(seed)\n",
    "\n",
    "    n = float_custom.shape[0]\n",
    "    m = int(n*signal_dim_factor)\n",
    "    encoding_matrix_custom = gen_random_matrix(m,n, magnitude=2)\n",
    "\n",
    "    y_custom = encoding_matrix_custom.dot(float_custom)\n",
    "\n",
    "\n",
    "    low_bound = 0.0\n",
    "    up_bound = 1.0\n",
    "\n",
    "    with  tqdm(range(max_iter),disable=not verbose) as loop:\n",
    "\n",
    "        for _ in loop:\n",
    "            if up_bound - low_bound <eps:\n",
    "                break\n",
    "            current = (low_bound + up_bound)/2\n",
    "            noise_custom = noisy_channel(y_custom, percent_error=current, seed=seed)\n",
    "\n",
    "            decoded_custom, decoded_float_custom =  extract_decoded_message(\n",
    "                encoding_matrix_custom, noise_custom, dimensions_custom, extract_fn\n",
    "            )\n",
    "\n",
    "            comp_res = False\n",
    "            if  decoded_custom == message_custom:\n",
    "                comp_res = True\n",
    "                low_bound = current\n",
    "            else:\n",
    "                up_bound = current\n",
    "\n",
    "            loop.set_postfix({\"norm_error\":  np.linalg.norm(float_custom-decoded_float_custom), \"max_noise_percent\": low_bound, \"current_noise_percent\":current, \"comp_result\": bool(comp_res), }, )\n",
    "\n",
    "        return low_bound"
   ]
  },
  {
   "cell_type": "code",
   "execution_count": 112,
   "metadata": {},
   "outputs": [],
   "source": [
    "def plot_signal_dim_factors(message: str, factors: np.ndarray | list[float], seed:Optional[int]=None) -> list[float]:\n",
    "\n",
    "\n",
    "    max_noise_percents = [find_noise_level_binary(message, signal_dim_factor=factor, verbose=False, seed=seed) for factor in factors]\n",
    "    plt.scatter(factors, max_noise_percents)\n",
    "    plt.title(f\"Message: {message}\")\n",
    "    plt.xlabel(\"Signal dimension factor\")\n",
    "    plt.ylabel(\"Maximum percent of noise\")\n",
    "    plt.show()\n",
    "\n",
    "    return max_noise_percents"
   ]
  },
  {
   "cell_type": "code",
   "execution_count": 116,
   "metadata": {},
   "outputs": [
    {
     "data": {
      "image/png": "[encoded data removed]",
      "text/plain": [
       "<Figure size 640x480 with 1 Axes>"
      ]
     },
     "metadata": {},
     "output_type": "display_data"
    },
    {
     "data": {
      "text/plain": [
       "[0.0,\n",
       " 0.203125,\n",
       " 0.2890625,\n",
       " 0.3515625,\n",
       " 0.3671875,\n",
       " 0.453125,\n",
       " 0.46875,\n",
       " 0.484375,\n",
       " 0.484375]"
      ]
     },
     "execution_count": 116,
     "metadata": {},
     "output_type": "execute_result"
    }
   ],
   "source": [
    "plot_signal_dim_factors(\"hello!\", [0.5, 1, 1.5, *range(2, 8)], seed=420)"
   ]
  },
  {
   "cell_type": "code",
   "execution_count": 117,
   "metadata": {},
   "outputs": [
    {
     "data": {
      "image/png": "[encoded data removed]",
      "text/plain": [
       "<Figure size 640x480 with 1 Axes>"
      ]
     },
     "metadata": {},
     "output_type": "display_data"
    },
    {
     "data": {
      "text/plain": [
       "[0.0703125,\n",
       " 0.1796875,\n",
       " 0.1796875,\n",
       " 0.296875,\n",
       " 0.3515625,\n",
       " 0.4140625,\n",
       " 0.4375,\n",
       " 0.4453125,\n",
       " 0.4375]"
      ]
     },
     "execution_count": 117,
     "metadata": {},
     "output_type": "execute_result"
    }
   ],
   "source": [
    "plot_signal_dim_factors(\"Hello, world!\", [0.5, 1, 1.5, *range(2, 8)], seed=420)\n"
   ]
  },
  {
   "cell_type": "code",
   "execution_count": 118,
   "metadata": {},
   "outputs": [
    {
     "data": {
      "image/png": "[encoded data removed]",
      "text/plain": [
       "<Figure size 640x480 with 1 Axes>"
      ]
     },
     "metadata": {},
     "output_type": "display_data"
    },
    {
     "data": {
      "text/plain": [
       "[0.0,\n",
       " 0.15625,\n",
       " 0.234375,\n",
       " 0.3046875,\n",
       " 0.3828125,\n",
       " 0.4140625,\n",
       " 0.40625,\n",
       " 0.46875,\n",
       " 0.453125]"
      ]
     },
     "execution_count": 118,
     "metadata": {},
     "output_type": "execute_result"
    }
   ],
   "source": [
    "plot_signal_dim_factors(\"Hello, beautiful world!!\", [0.5, 1, 1.5, *range(2, 8)], seed=420)\n"
   ]
  },
  {
   "cell_type": "code",
   "execution_count": 45,
   "metadata": {},
   "outputs": [
    {
     "name": "stderr",
     "output_type": "stream",
     "text": [
      " 70%|███████   | 7/10 [01:11<00:30, 10.25s/it, norm_error=3.12, max_noise_percent=0.156, current_noise_percent=0.164, comp_result=0]    \n"
     ]
    },
    {
     "data": {
      "text/plain": [
       "0.15625"
      ]
     },
     "execution_count": 45,
     "metadata": {},
     "output_type": "execute_result"
    }
   ],
   "source": [
    "find_noise_level_binary(\n",
    "\"\"\"Надо любить жизнь больше, чем смысл жизни.\n",
    "- Достоевский\"\"\", signal_dim_factor=1,  seed=420)"
   ]
  },
  {
   "cell_type": "markdown",
   "metadata": {},
   "source": [
    "## Question 6"
   ]
  },
  {
   "cell_type": "markdown",
   "metadata": {},
   "source": [
    "*Q6: Now implement the Dikin’s method presented at the end of the first part of the course to\n",
    "solve problem (1). Compare the results obtained between Dikin’s method and the linear\n",
    "solvers provided by SciPy*"
   ]
  }
 ],
 "metadata": {
  "kernelspec": {
   "display_name": "optim_course",
   "language": "python",
   "name": "python3"
  },
  "language_info": {
   "codemirror_mode": {
    "name": "ipython",
    "version": 3
   },
   "file_extension": ".py",
   "mimetype": "text/x-python",
   "name": "python",
   "nbconvert_exporter": "python",
   "pygments_lexer": "ipython3",
   "version": "3.12.4"
  }
 },
 "nbformat": 4,
 "nbformat_minor": 2
}
